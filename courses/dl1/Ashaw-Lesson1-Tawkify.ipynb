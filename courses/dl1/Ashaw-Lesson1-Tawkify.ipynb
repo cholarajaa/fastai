{
 "cells": [
  {
   "cell_type": "code",
   "execution_count": null,
   "metadata": {},
   "outputs": [],
   "source": [
    "# Put these at the top of every notebook, to get automatic reloading and inline plotting\n",
    "%reload_ext autoreload\n",
    "%autoreload 2\n",
    "%matplotlib inline"
   ]
  },
  {
   "cell_type": "code",
   "execution_count": null,
   "metadata": {},
   "outputs": [],
   "source": [
    "# This file contains all the main external libs we'll use\n",
    "from fastai.imports import *"
   ]
  },
  {
   "cell_type": "code",
   "execution_count": null,
   "metadata": {},
   "outputs": [],
   "source": [
    "from fastai.transforms import *\n",
    "from fastai.conv_learner import *\n",
    "from fastai.model import *\n",
    "from fastai.dataset import *\n",
    "from fastai.sgdr import *\n",
    "from fastai.plots import *\n",
    "\n",
    "import urllib"
   ]
  },
  {
   "cell_type": "code",
   "execution_count": null,
   "metadata": {},
   "outputs": [],
   "source": [
    "PATH = 'data/tawkify/'\n",
    "image_folder = f'{PATH}train/'\n",
    "data_csv = PATH+'tw_dem_images.csv'\n",
    "image_csv = PATH+'image_csv.csv'"
   ]
  },
  {
   "cell_type": "code",
   "execution_count": null,
   "metadata": {},
   "outputs": [],
   "source": [
    "sz=220"
   ]
  },
  {
   "cell_type": "markdown",
   "metadata": {},
   "source": [
    "### Load Data"
   ]
  },
  {
   "cell_type": "code",
   "execution_count": null,
   "metadata": {},
   "outputs": [],
   "source": [
    "# df = pd.read_csv(PATH+'Photo_Income_Age_2.8.18.csv')"
   ]
  },
  {
   "cell_type": "code",
   "execution_count": null,
   "metadata": {},
   "outputs": [],
   "source": [
    "df = pd.read_csv(data_csv, dtype={'local_photo': 'object'})"
   ]
  },
  {
   "cell_type": "code",
   "execution_count": null,
   "metadata": {},
   "outputs": [],
   "source": [
    "df.columns"
   ]
  },
  {
   "cell_type": "code",
   "execution_count": null,
   "metadata": {},
   "outputs": [],
   "source": [
    "df['userID'].size"
   ]
  },
  {
   "cell_type": "code",
   "execution_count": null,
   "metadata": {},
   "outputs": [],
   "source": [
    "df.head()"
   ]
  },
  {
   "cell_type": "code",
   "execution_count": null,
   "metadata": {},
   "outputs": [],
   "source": [
    "plt.imshow(plt.imread(f'{PATH}train/933e245251bc667ce6ff74f12dc998fe.jpg'))"
   ]
  },
  {
   "cell_type": "markdown",
   "metadata": {},
   "source": [
    "### Download images"
   ]
  },
  {
   "cell_type": "code",
   "execution_count": null,
   "metadata": {},
   "outputs": [],
   "source": [
    "df.userID[0]"
   ]
  },
  {
   "cell_type": "code",
   "execution_count": null,
   "metadata": {},
   "outputs": [],
   "source": [
    "df.shape"
   ]
  },
  {
   "cell_type": "code",
   "execution_count": null,
   "metadata": {},
   "outputs": [],
   "source": [
    "# OLD SYNCHRONOUS WAY\n",
    "# for index, row in tqdm(df.iterrows(), total=df.shape[0]):\n",
    "#     user_id = row['userID']\n",
    "#     image_url = row['User_Photo']\n",
    "#     image_path = f'{image_folder}{user_id}.jpg'\n",
    "#     if not os.path.exists(image_path):\n",
    "#         try:\n",
    "#             urllib.request.urlretrieve(image_url, image_path)\n",
    "#             df['local_photo'][index] = image_path\n",
    "#         except Exception as e:\n",
    "# #             print('Could not download image for user:', user_id)\n",
    "#             pass\n",
    "#     else:\n",
    "#         df['local_photo'][index] = image_path"
   ]
  },
  {
   "cell_type": "code",
   "execution_count": null,
   "metadata": {},
   "outputs": [],
   "source": [
    "df.head()"
   ]
  },
  {
   "cell_type": "code",
   "execution_count": null,
   "metadata": {},
   "outputs": [],
   "source": [
    "df.to_csv(PATH+'tw_dem_images.csv')"
   ]
  },
  {
   "cell_type": "code",
   "execution_count": null,
   "metadata": {},
   "outputs": [],
   "source": [
    "plt.imshow(plt.imread(df.local_photo[np.random.randint(10)]))"
   ]
  },
  {
   "cell_type": "code",
   "execution_count": null,
   "metadata": {},
   "outputs": [],
   "source": [
    "a = df.loc[df.local_photo == '']"
   ]
  },
  {
   "cell_type": "code",
   "execution_count": null,
   "metadata": {},
   "outputs": [],
   "source": [
    "a.shape"
   ]
  },
  {
   "cell_type": "code",
   "execution_count": null,
   "metadata": {},
   "outputs": [],
   "source": [
    "from concurrent.futures import ThreadPoolExecutor, wait, as_completed\n",
    "from time import sleep\n",
    "\n",
    "a = df.loc[df.local_photo == '']\n",
    "\n",
    "# TEST\n",
    "a = a[:10000]\n",
    "chunk_size = 1000\n",
    "futures = []\n",
    "# b = a.copy()"
   ]
  },
  {
   "cell_type": "code",
   "execution_count": null,
   "metadata": {},
   "outputs": [],
   "source": [
    "def download_images(df):\n",
    "    downloaded_images = {}\n",
    "    failed_images = []\n",
    "#     sleep(10)\n",
    "#     return {}, []\n",
    "    for index, row in df.iterrows():\n",
    "        if df.index.name == 'userID':\n",
    "            user_id = index\n",
    "        else:\n",
    "            user_id = row['userID']\n",
    "        image_url = row['User_Photo']\n",
    "        image_path = f'{image_folder}{user_id}.jpg'\n",
    "        if os.path.exists(image_path):\n",
    "            downloaded_images[user_id] = image_path\n",
    "            continue\n",
    "        try:\n",
    "            urllib.request.urlretrieve(image_url, image_path)\n",
    "            downloaded_images[user_id] = image_path\n",
    "#                 df['local_photo'][index] = image_path\n",
    "        except Exception as e:\n",
    "#             print('Could not download image for user:', user_id)\n",
    "            failed_images.append(user_id)\n",
    "            continue\n",
    "    return downloaded_images, failed_images\n",
    "    \n",
    "# urllib.request.urlretrieve('https://www.blog.google/static/blog/images/google-200x200.7714256da16f.png', f'{PATH}00000001.jpg')"
   ]
  },
  {
   "cell_type": "code",
   "execution_count": null,
   "metadata": {},
   "outputs": [],
   "source": [
    "with ThreadPoolExecutor(5) as executor:\n",
    "    for chunk in range(chunk_size, a.shape[0], chunk_size):\n",
    "        idx_end = max(a.shape[0], chunk+chunk_size)\n",
    "        futures.append(executor.submit(download_images, a[chunk:idx_end]))\n",
    "\n",
    "    kwargs = {\n",
    "        'total': len(futures),\n",
    "        'unit': 'nap',\n",
    "        'unit_scale': True,\n",
    "        'leave': True,\n",
    "        'disable': False\n",
    "    }\n",
    "    for x in tqdm(as_completed(futures), **kwargs):\n",
    "        dl_imgs, failed = x.result()\n",
    "    #     print(f'Downloaded: {dl_imgs}, Failed: {failed}')\n",
    "        new_df = pd.DataFrame({'userID': list(dl_imgs.keys()), 'local_photo': list(dl_imgs.values())})\n",
    "        if new_df.index.name != 'userID':\n",
    "            new_df.set_index('userID', inplace=True)\n",
    "        if df.index.name != 'userID':\n",
    "            df.set_index('userID', inplace=True)\n",
    "        df.update(new_df)\n",
    "#     df.reset_index() # do we need this?"
   ]
  },
  {
   "cell_type": "code",
   "execution_count": null,
   "metadata": {},
   "outputs": [],
   "source": [
    "# test\n",
    "def wait_a(x):\n",
    "    sleep(2)\n",
    "    return x\n",
    "\n",
    "futures = []\n",
    "with ThreadPoolExecutor(5) as executor:\n",
    "    \n",
    "    for chunk in range(10):\n",
    "        futures.append(executor.submit(wait_a, chunk))\n",
    "\n",
    "    kwargs = {\n",
    "        'total': len(futures),\n",
    "        'unit': 'nap',\n",
    "        'unit_scale': True,\n",
    "        'leave': True,\n",
    "        'disable': False\n",
    "    }\n",
    "    for x in tqdm(as_completed(futures), **kwargs):\n",
    "        print('Finished:', x.result())"
   ]
  },
  {
   "cell_type": "code",
   "execution_count": null,
   "metadata": {},
   "outputs": [],
   "source": [
    "b.head()"
   ]
  },
  {
   "cell_type": "code",
   "execution_count": null,
   "metadata": {},
   "outputs": [],
   "source": [
    "a[chunk:idx_end]"
   ]
  },
  {
   "cell_type": "markdown",
   "metadata": {},
   "source": [
    "### Read images"
   ]
  },
  {
   "cell_type": "code",
   "execution_count": null,
   "metadata": {},
   "outputs": [],
   "source": [
    "img_df = df.loc[df.local_photo != '']"
   ]
  },
  {
   "cell_type": "code",
   "execution_count": null,
   "metadata": {},
   "outputs": [],
   "source": [
    "img_df = pd.read_csv(image_csv)"
   ]
  },
  {
   "cell_type": "code",
   "execution_count": null,
   "metadata": {},
   "outputs": [],
   "source": [
    "img_df.to_csv(image_csv)"
   ]
  },
  {
   "cell_type": "code",
   "execution_count": null,
   "metadata": {},
   "outputs": [],
   "source": [
    "img_df.local_photo.iloc[np.random.randint(10)]"
   ]
  },
  {
   "cell_type": "code",
   "execution_count": null,
   "metadata": {},
   "outputs": [],
   "source": [
    "plt.imshow(plt.imread(img_df.local_photo.iloc[np.random.randint(10)]))"
   ]
  },
  {
   "cell_type": "code",
   "execution_count": null,
   "metadata": {},
   "outputs": [],
   "source": [
    "size_map = { idx:plt.imread(k.local_photo).shape for idx,k in img_df.iterrows()}"
   ]
  },
  {
   "cell_type": "code",
   "execution_count": null,
   "metadata": {},
   "outputs": [],
   "source": [
    "size_map"
   ]
  },
  {
   "cell_type": "code",
   "execution_count": null,
   "metadata": {},
   "outputs": [],
   "source": [
    "h, w, ch = list(zip(*size_map.values()))"
   ]
  },
  {
   "cell_type": "code",
   "execution_count": null,
   "metadata": {},
   "outputs": [],
   "source": [
    "plt.hist(w)"
   ]
  },
  {
   "cell_type": "code",
   "execution_count": null,
   "metadata": {},
   "outputs": [],
   "source": [
    "w = np.array(w)\n",
    "plt.hist(w[w<600])"
   ]
  },
  {
   "cell_type": "markdown",
   "metadata": {},
   "source": [
    "### Architecture"
   ]
  },
  {
   "cell_type": "code",
   "execution_count": null,
   "metadata": {},
   "outputs": [],
   "source": [
    "# !rm -rf {PATH}tmp"
   ]
  },
  {
   "cell_type": "code",
   "execution_count": null,
   "metadata": {},
   "outputs": [],
   "source": [
    "model_csv = f'{PATH}current_model.csv'"
   ]
  },
  {
   "cell_type": "code",
   "execution_count": null,
   "metadata": {},
   "outputs": [],
   "source": [
    "temp_df = pd.read_csv(model_csv)"
   ]
  },
  {
   "cell_type": "code",
   "execution_count": null,
   "metadata": {},
   "outputs": [],
   "source": [
    "sample_csv = f'{PATH}sample_model.csv'"
   ]
  },
  {
   "cell_type": "code",
   "execution_count": null,
   "metadata": {},
   "outputs": [],
   "source": [
    "temp_df[:100].to_csv(sample_csv, index=False)"
   ]
  },
  {
   "cell_type": "code",
   "execution_count": null,
   "metadata": {},
   "outputs": [],
   "source": [
    "temp_df = pd.DataFrame(data={'id': img_df.userID, 'gender': img_df.gender}, columns=['id', 'gender'])\n",
    "temp_df.to_csv(model_csv, index=False)"
   ]
  },
  {
   "cell_type": "code",
   "execution_count": null,
   "metadata": {},
   "outputs": [],
   "source": [
    "arch=resnet50"
   ]
  },
  {
   "cell_type": "code",
   "execution_count": null,
   "metadata": {},
   "outputs": [],
   "source": [
    "tfms = tfms_from_model(arch, sz, aug_tfms=transforms_side_on, max_zoom=1.1)\n",
    "n = temp_df[:100].shape[0]-1\n",
    "val_idxs = get_cv_idxs(n)\n",
    "data = ImageClassifierData.from_csv(path=PATH, folder='train', csv_fname=sample_csv, tfms=tfms, suffix='.jpg', val_idxs=val_idxs)\n",
    "# data = ImageClassifierData.from_csv(path=PATH, folder='train', csv_fname=image_csv, test_name='test', tfms=tfms, suffix='.jpg', val_idxs=val_idxs)\n",
    "new_data = data.resize(sz, 'tmp')"
   ]
  },
  {
   "cell_type": "code",
   "execution_count": null,
   "metadata": {},
   "outputs": [],
   "source": [
    "data.trn_ds[0][0].shape"
   ]
  },
  {
   "cell_type": "code",
   "execution_count": null,
   "metadata": {},
   "outputs": [],
   "source": [
    "learn = ConvLearner.pretrained(arch, data=new_data, precompute=True)"
   ]
  },
  {
   "cell_type": "code",
   "execution_count": null,
   "metadata": {},
   "outputs": [],
   "source": [
    "learn.lr_find()"
   ]
  },
  {
   "cell_type": "code",
   "execution_count": null,
   "metadata": {},
   "outputs": [],
   "source": [
    "learn.sched.plot()"
   ]
  },
  {
   "cell_type": "code",
   "execution_count": null,
   "metadata": {},
   "outputs": [],
   "source": [
    "learn.fit(lrs=1e-1, n_cycle=2)"
   ]
  },
  {
   "cell_type": "code",
   "execution_count": null,
   "metadata": {},
   "outputs": [],
   "source": [
    "learn.fit(lrs=1e-2, n_cycle=2)"
   ]
  },
  {
   "cell_type": "code",
   "execution_count": null,
   "metadata": {},
   "outputs": [],
   "source": [
    "learn.precompute=False"
   ]
  },
  {
   "cell_type": "code",
   "execution_count": null,
   "metadata": {},
   "outputs": [],
   "source": [
    "learn.fit(lrs=1e-2, n_cycle=3)"
   ]
  },
  {
   "cell_type": "code",
   "execution_count": null,
   "metadata": {},
   "outputs": [],
   "source": [
    "learn.unfreeze()"
   ]
  },
  {
   "cell_type": "code",
   "execution_count": null,
   "metadata": {},
   "outputs": [],
   "source": [
    "learn.lr_find()"
   ]
  },
  {
   "cell_type": "code",
   "execution_count": null,
   "metadata": {},
   "outputs": [],
   "source": [
    "learn.sched.plot()"
   ]
  },
  {
   "cell_type": "code",
   "execution_count": null,
   "metadata": {},
   "outputs": [],
   "source": [
    "learn.fit(lrs=[1e-4,1e-3,1e-2], n_cycle=3, cycle_len=1)"
   ]
  },
  {
   "cell_type": "code",
   "execution_count": null,
   "metadata": {},
   "outputs": [],
   "source": [
    "learn.fit(lrs=[1e-4,1e-3,1e-2], n_cycle=3, cycle_mult=2)"
   ]
  },
  {
   "cell_type": "code",
   "execution_count": null,
   "metadata": {},
   "outputs": [],
   "source": [
    "log_preds, y = learn.TTA()\n",
    "probs = np.exp(log_preds)\n",
    "accuracy(log_preds,y), metrics.log_loss(y, probs)"
   ]
  },
  {
   "cell_type": "code",
   "execution_count": null,
   "metadata": {},
   "outputs": [],
   "source": [
    "preds = np.argmax(log_preds, axis=1)\n",
    "# np.array(preds==y).mean()\n",
    "preds\n",
    "# accuracy(log_preds,y)"
   ]
  },
  {
   "cell_type": "code",
   "execution_count": null,
   "metadata": {},
   "outputs": [],
   "source": []
  }
 ],
 "metadata": {
  "kernelspec": {
   "display_name": "Python 3",
   "language": "python",
   "name": "python3"
  },
  "language_info": {
   "codemirror_mode": {
    "name": "ipython",
    "version": 3
   },
   "file_extension": ".py",
   "mimetype": "text/x-python",
   "name": "python",
   "nbconvert_exporter": "python",
   "pygments_lexer": "ipython3",
   "version": "3.6.4"
  }
 },
 "nbformat": 4,
 "nbformat_minor": 2
}
