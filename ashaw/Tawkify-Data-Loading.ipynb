{
 "cells": [
  {
   "cell_type": "code",
   "execution_count": 1,
   "metadata": {},
   "outputs": [],
   "source": [
    "# Put these at the top of every notebook, to get automatic reloading and inline plotting\n",
    "%reload_ext autoreload\n",
    "%autoreload 2\n",
    "%matplotlib inline"
   ]
  },
  {
   "cell_type": "code",
   "execution_count": 2,
   "metadata": {},
   "outputs": [],
   "source": [
    "# This file contains all the main external libs we'll use\n",
    "from fastai.imports import *"
   ]
  },
  {
   "cell_type": "code",
   "execution_count": 3,
   "metadata": {},
   "outputs": [],
   "source": [
    "from fastai.transforms import *\n",
    "from fastai.conv_learner import *\n",
    "from fastai.model import *\n",
    "from fastai.dataset import *\n",
    "from fastai.sgdr import *\n",
    "from fastai.plots import *\n",
    "\n",
    "import urllib\n",
    "from PIL import Image"
   ]
  },
  {
   "cell_type": "code",
   "execution_count": 4,
   "metadata": {},
   "outputs": [],
   "source": [
    "PATH = 'data/tawkify/'\n",
    "image_folder = f'{PATH}train/'\n",
    "data_csv = PATH+'tw_dem_images.csv'\n",
    "image_csv = PATH+'image_csv.csv'"
   ]
  },
  {
   "cell_type": "markdown",
   "metadata": {},
   "source": [
    "### Load Data"
   ]
  },
  {
   "cell_type": "code",
   "execution_count": 25,
   "metadata": {},
   "outputs": [],
   "source": [
    "# df = pd.read_csv(PATH+'Photo_Income_Age_2.8.18.csv')\n",
    "df = pd.read_csv(data_csv, dtype={'local_photo': 'object', 'image_type': 'object'})"
   ]
  },
  {
   "cell_type": "code",
   "execution_count": 26,
   "metadata": {},
   "outputs": [],
   "source": [
    "uid = 55801\n",
    "row = df.loc[df.userID == uid].iloc[0]"
   ]
  },
  {
   "cell_type": "code",
   "execution_count": 27,
   "metadata": {},
   "outputs": [
    {
     "data": {
      "text/plain": [
       "Unnamed: 0                                                       93747\n",
       "userID                                                           55801\n",
       "gender                                                            male\n",
       "attractedToGender                                               female\n",
       "fromState                                                           NY\n",
       "metro_name                                                  NYC Queens\n",
       "User_Age                                                            44\n",
       "User_Photo           https://s3-us-west-1.amazonaws.com/tawkifyfile...\n",
       "User_Income                                                     150000\n",
       "local_photo                           data/tawkify/corrupted/55801.jpg\n",
       "image_type                                                   corrupted\n",
       "Name: 93747, dtype: object"
      ]
     },
     "execution_count": 27,
     "metadata": {},
     "output_type": "execute_result"
    }
   ],
   "source": [
    "row"
   ]
  },
  {
   "cell_type": "code",
   "execution_count": 18,
   "metadata": {},
   "outputs": [],
   "source": [
    "df.loc[row.name]\n",
    "df.at[row.name, 'image_type'] = 'corrupted'"
   ]
  },
  {
   "cell_type": "code",
   "execution_count": 15,
   "metadata": {},
   "outputs": [
    {
     "name": "stdout",
     "output_type": "stream",
     "text": [
      "data/tawkify/train/55801.jpg\n"
     ]
    }
   ],
   "source": [
    "\n",
    "#     img = img_df.at[idx, 'local_photo']\n",
    "#     if img == 'corrupted':\n",
    "#         return\n",
    "#     print(img)\n",
    "#     if len(plt.imread(img).shape) >= 3:\n",
    "#         print('Not bad file:', img)\n",
    "#         return\n",
    "\n",
    "corrupted_ids = [55801]\n",
    "for uid in corrupted_ids:\n",
    "    row = df.loc[df.userID == uid].iloc[0]\n",
    "    \n",
    "    file = row.local_photo\n",
    "    shape = plt.imread(file).shape\n",
    "#     if len(shape) == 3:\n",
    "#         continue\n",
    "    print(file)\n",
    "    corrupted_file = file.replace('train', 'corrupted')\n",
    "    df.at[row.name, 'local_photo'] = corrupted_file\n",
    "    df.at[row.name, 'image_type'] = 'corrupted'\n",
    "    try:\n",
    "        os.rename(file, corrupted_file)\n",
    "    except Exception as e:\n",
    "        pass"
   ]
  },
  {
   "cell_type": "markdown",
   "metadata": {},
   "source": [
    "### Explore Data"
   ]
  },
  {
   "cell_type": "code",
   "execution_count": null,
   "metadata": {},
   "outputs": [],
   "source": [
    "df.columns"
   ]
  },
  {
   "cell_type": "code",
   "execution_count": null,
   "metadata": {},
   "outputs": [],
   "source": [
    "df['userID'].size"
   ]
  },
  {
   "cell_type": "code",
   "execution_count": 19,
   "metadata": {},
   "outputs": [
    {
     "data": {
      "text/html": [
       "<div>\n",
       "<style scoped>\n",
       "    .dataframe tbody tr th:only-of-type {\n",
       "        vertical-align: middle;\n",
       "    }\n",
       "\n",
       "    .dataframe tbody tr th {\n",
       "        vertical-align: top;\n",
       "    }\n",
       "\n",
       "    .dataframe thead th {\n",
       "        text-align: right;\n",
       "    }\n",
       "</style>\n",
       "<table border=\"1\" class=\"dataframe\">\n",
       "  <thead>\n",
       "    <tr style=\"text-align: right;\">\n",
       "      <th></th>\n",
       "      <th>Unnamed: 0</th>\n",
       "      <th>userID</th>\n",
       "      <th>gender</th>\n",
       "      <th>attractedToGender</th>\n",
       "      <th>fromState</th>\n",
       "      <th>metro_name</th>\n",
       "      <th>User_Age</th>\n",
       "      <th>User_Photo</th>\n",
       "      <th>User_Income</th>\n",
       "      <th>local_photo</th>\n",
       "      <th>image_type</th>\n",
       "    </tr>\n",
       "  </thead>\n",
       "  <tbody>\n",
       "    <tr>\n",
       "      <th>0</th>\n",
       "      <td>0</td>\n",
       "      <td>996294</td>\n",
       "      <td>female</td>\n",
       "      <td>male</td>\n",
       "      <td>CA</td>\n",
       "      <td>SF Peninsula</td>\n",
       "      <td>42.0</td>\n",
       "      <td>https://s3-us-west-1.amazonaws.com/tawkifyfile...</td>\n",
       "      <td>80000.0</td>\n",
       "      <td>data/tawkify/train/996294.jpg</td>\n",
       "      <td>corrupted</td>\n",
       "    </tr>\n",
       "    <tr>\n",
       "      <th>1</th>\n",
       "      <td>1</td>\n",
       "      <td>995253</td>\n",
       "      <td>female</td>\n",
       "      <td>male</td>\n",
       "      <td>CA</td>\n",
       "      <td>SF South Bay</td>\n",
       "      <td>45.0</td>\n",
       "      <td>https://s3-us-west-1.amazonaws.com/tawkifyfile...</td>\n",
       "      <td>0.0</td>\n",
       "      <td>data/tawkify/train/995253.jpg</td>\n",
       "      <td>corrupted</td>\n",
       "    </tr>\n",
       "    <tr>\n",
       "      <th>2</th>\n",
       "      <td>2</td>\n",
       "      <td>996305</td>\n",
       "      <td>male</td>\n",
       "      <td>female</td>\n",
       "      <td>CA</td>\n",
       "      <td>SF Peninsula</td>\n",
       "      <td>28.0</td>\n",
       "      <td>https://s3-us-west-1.amazonaws.com/tawkifyfile...</td>\n",
       "      <td>60000.0</td>\n",
       "      <td>data/tawkify/train/996305.jpg</td>\n",
       "      <td>corrupted</td>\n",
       "    </tr>\n",
       "    <tr>\n",
       "      <th>3</th>\n",
       "      <td>3</td>\n",
       "      <td>994861</td>\n",
       "      <td>female</td>\n",
       "      <td>male</td>\n",
       "      <td>CA</td>\n",
       "      <td>SF Peninsula</td>\n",
       "      <td>46.0</td>\n",
       "      <td>https://s3-us-west-1.amazonaws.com/tawkifyfile...</td>\n",
       "      <td>150000.0</td>\n",
       "      <td>data/tawkify/train/994861.jpg</td>\n",
       "      <td>corrupted</td>\n",
       "    </tr>\n",
       "    <tr>\n",
       "      <th>4</th>\n",
       "      <td>4</td>\n",
       "      <td>996334</td>\n",
       "      <td>male</td>\n",
       "      <td>female</td>\n",
       "      <td>CA</td>\n",
       "      <td>SF City</td>\n",
       "      <td>53.0</td>\n",
       "      <td>https://s3-us-west-1.amazonaws.com/tawkifyfile...</td>\n",
       "      <td>500000.0</td>\n",
       "      <td>data/tawkify/train/996334.jpg</td>\n",
       "      <td>corrupted</td>\n",
       "    </tr>\n",
       "  </tbody>\n",
       "</table>\n",
       "</div>"
      ],
      "text/plain": [
       "   Unnamed: 0  userID  gender attractedToGender fromState    metro_name  \\\n",
       "0           0  996294  female              male        CA  SF Peninsula   \n",
       "1           1  995253  female              male        CA  SF South Bay   \n",
       "2           2  996305    male            female        CA  SF Peninsula   \n",
       "3           3  994861  female              male        CA  SF Peninsula   \n",
       "4           4  996334    male            female        CA       SF City   \n",
       "\n",
       "   User_Age                                         User_Photo  User_Income  \\\n",
       "0      42.0  https://s3-us-west-1.amazonaws.com/tawkifyfile...      80000.0   \n",
       "1      45.0  https://s3-us-west-1.amazonaws.com/tawkifyfile...          0.0   \n",
       "2      28.0  https://s3-us-west-1.amazonaws.com/tawkifyfile...      60000.0   \n",
       "3      46.0  https://s3-us-west-1.amazonaws.com/tawkifyfile...     150000.0   \n",
       "4      53.0  https://s3-us-west-1.amazonaws.com/tawkifyfile...     500000.0   \n",
       "\n",
       "                     local_photo image_type  \n",
       "0  data/tawkify/train/996294.jpg  corrupted  \n",
       "1  data/tawkify/train/995253.jpg  corrupted  \n",
       "2  data/tawkify/train/996305.jpg  corrupted  \n",
       "3  data/tawkify/train/994861.jpg  corrupted  \n",
       "4  data/tawkify/train/996334.jpg  corrupted  "
      ]
     },
     "execution_count": 19,
     "metadata": {},
     "output_type": "execute_result"
    }
   ],
   "source": [
    "df.head()"
   ]
  },
  {
   "cell_type": "code",
   "execution_count": null,
   "metadata": {},
   "outputs": [],
   "source": [
    "df.loc[df.userID == 922512].image_type.isna()"
   ]
  },
  {
   "cell_type": "markdown",
   "metadata": {},
   "source": [
    "### Download images"
   ]
  },
  {
   "cell_type": "code",
   "execution_count": null,
   "metadata": {},
   "outputs": [],
   "source": [
    "from concurrent.futures import ThreadPoolExecutor, wait, as_completed\n",
    "from time import sleep\n",
    "\n",
    "a = df.loc[(df.local_photo == '') | df.local_photo.isna()]\n",
    "print(df.shape)\n",
    "print(a.shape)\n",
    "\n",
    "# TEST\n",
    "a = a[:10000]\n",
    "chunk_size = 1000\n",
    "futures = []\n",
    "# b = a.copy()"
   ]
  },
  {
   "cell_type": "code",
   "execution_count": null,
   "metadata": {},
   "outputs": [],
   "source": [
    "def download_images(df):\n",
    "    downloaded_images = {}\n",
    "    failed_images = []\n",
    "#     sleep(10)\n",
    "#     return {}, []\n",
    "    for index, row in df.iterrows():\n",
    "        if df.index.name == 'userID':\n",
    "            user_id = index\n",
    "        else:\n",
    "            user_id = row['userID']\n",
    "        image_url = row['User_Photo']\n",
    "        image_path = f'{image_folder}{user_id}.jpg'\n",
    "        if os.path.exists(image_path):\n",
    "            downloaded_images[user_id] = image_path\n",
    "            continue\n",
    "        try:\n",
    "            urllib.request.urlretrieve(image_url, image_path)\n",
    "            downloaded_images[user_id] = image_path\n",
    "#                 df['local_photo'][index] = image_path\n",
    "        except Exception as e:\n",
    "#             print('Could not download image for user:', user_id)\n",
    "            failed_images.append(user_id)\n",
    "            continue\n",
    "    return downloaded_images, failed_images\n"
   ]
  },
  {
   "cell_type": "code",
   "execution_count": null,
   "metadata": {},
   "outputs": [],
   "source": [
    "with ThreadPoolExecutor(5) as executor:\n",
    "    for chunk in range(chunk_size, a.shape[0], chunk_size):\n",
    "        idx_end = max(a.shape[0], chunk+chunk_size)\n",
    "        futures.append(executor.submit(download_images, a[chunk:idx_end]))\n",
    "\n",
    "    kwargs = {\n",
    "        'total': len(futures),\n",
    "        'unit': 'nap',\n",
    "        'unit_scale': True,\n",
    "        'leave': True,\n",
    "        'disable': False\n",
    "    }\n",
    "    for x in tqdm(as_completed(futures), **kwargs):\n",
    "        dl_imgs, failed = x.result()\n",
    "        update_df = pd.DataFrame({'userID': list(dl_imgs.keys()), 'local_photo': list(dl_imgs.values())})\n",
    "        if update_df.index.name != 'userID':\n",
    "            update_df.set_index('userID', inplace=True)\n",
    "        if df.index.name != 'userID':\n",
    "            df.set_index('userID', inplace=True)\n",
    "        df.update(update_df)\n",
    "        \n",
    "        failed_df = pd.DataFrame({'userID': list(failed), 'local_photo': 'corrupted', 'image_type': 'corrupted'})\n",
    "        if failed_df.index.name != 'userID':\n",
    "            failed_df.set_index('userID', inplace=True)\n",
    "        df.update(failed_df)\n",
    "    df.reset_index() # do we need this?"
   ]
  },
  {
   "cell_type": "code",
   "execution_count": 20,
   "metadata": {},
   "outputs": [],
   "source": [
    "df.drop('Unnamed: 0', axis=1, inplace=True)"
   ]
  },
  {
   "cell_type": "code",
   "execution_count": 21,
   "metadata": {},
   "outputs": [],
   "source": [
    "df.to_csv(PATH+'tw_dem_images.csv')"
   ]
  },
  {
   "cell_type": "markdown",
   "metadata": {},
   "source": [
    "### Create Image Frame with only JPEGS"
   ]
  },
  {
   "cell_type": "code",
   "execution_count": 22,
   "metadata": {},
   "outputs": [],
   "source": [
    "img_df = df.loc[(df.local_photo != '') \n",
    "                & (df.local_photo != 'corrupted') \n",
    "                & (df.image_type == 'jpeg') \n",
    "                & ~df.local_photo.isna()\n",
    "               ]\n"
   ]
  },
  {
   "cell_type": "code",
   "execution_count": 29,
   "metadata": {},
   "outputs": [],
   "source": [
    "img_df = pd.read_csv(image_csv)"
   ]
  },
  {
   "cell_type": "code",
   "execution_count": null,
   "metadata": {},
   "outputs": [],
   "source": [
    "img_df.shape"
   ]
  },
  {
   "cell_type": "code",
   "execution_count": 24,
   "metadata": {},
   "outputs": [],
   "source": [
    "img_df.to_csv(image_csv, index=False)"
   ]
  },
  {
   "cell_type": "code",
   "execution_count": null,
   "metadata": {},
   "outputs": [],
   "source": [
    "img_df.local_photo.iloc[np.random.randint(10)]"
   ]
  },
  {
   "cell_type": "code",
   "execution_count": null,
   "metadata": {},
   "outputs": [],
   "source": [
    "plt.imshow(plt.imread(img_df.local_photo.iloc[np.random.randint(10)]))"
   ]
  },
  {
   "cell_type": "markdown",
   "metadata": {},
   "source": [
    "### Update dataframe with image size"
   ]
  },
  {
   "cell_type": "code",
   "execution_count": 7,
   "metadata": {},
   "outputs": [
    {
     "data": {
      "text/html": [
       "<div>\n",
       "<style scoped>\n",
       "    .dataframe tbody tr th:only-of-type {\n",
       "        vertical-align: middle;\n",
       "    }\n",
       "\n",
       "    .dataframe tbody tr th {\n",
       "        vertical-align: top;\n",
       "    }\n",
       "\n",
       "    .dataframe thead th {\n",
       "        text-align: right;\n",
       "    }\n",
       "</style>\n",
       "<table border=\"1\" class=\"dataframe\">\n",
       "  <thead>\n",
       "    <tr style=\"text-align: right;\">\n",
       "      <th></th>\n",
       "      <th>Unnamed: 0</th>\n",
       "      <th>userID</th>\n",
       "      <th>gender</th>\n",
       "      <th>attractedToGender</th>\n",
       "      <th>fromState</th>\n",
       "      <th>metro_name</th>\n",
       "      <th>User_Age</th>\n",
       "      <th>User_Photo</th>\n",
       "      <th>User_Income</th>\n",
       "      <th>local_photo</th>\n",
       "      <th>image_type</th>\n",
       "    </tr>\n",
       "  </thead>\n",
       "  <tbody>\n",
       "    <tr>\n",
       "      <th>0</th>\n",
       "      <td>0</td>\n",
       "      <td>996294</td>\n",
       "      <td>female</td>\n",
       "      <td>male</td>\n",
       "      <td>CA</td>\n",
       "      <td>SF Peninsula</td>\n",
       "      <td>42.0</td>\n",
       "      <td>https://s3-us-west-1.amazonaws.com/tawkifyfile...</td>\n",
       "      <td>80000.0</td>\n",
       "      <td>data/tawkify/train/996294.jpg</td>\n",
       "      <td>corrupted</td>\n",
       "    </tr>\n",
       "    <tr>\n",
       "      <th>1</th>\n",
       "      <td>1</td>\n",
       "      <td>995253</td>\n",
       "      <td>female</td>\n",
       "      <td>male</td>\n",
       "      <td>CA</td>\n",
       "      <td>SF South Bay</td>\n",
       "      <td>45.0</td>\n",
       "      <td>https://s3-us-west-1.amazonaws.com/tawkifyfile...</td>\n",
       "      <td>0.0</td>\n",
       "      <td>data/tawkify/train/995253.jpg</td>\n",
       "      <td>corrupted</td>\n",
       "    </tr>\n",
       "    <tr>\n",
       "      <th>2</th>\n",
       "      <td>2</td>\n",
       "      <td>996305</td>\n",
       "      <td>male</td>\n",
       "      <td>female</td>\n",
       "      <td>CA</td>\n",
       "      <td>SF Peninsula</td>\n",
       "      <td>28.0</td>\n",
       "      <td>https://s3-us-west-1.amazonaws.com/tawkifyfile...</td>\n",
       "      <td>60000.0</td>\n",
       "      <td>data/tawkify/train/996305.jpg</td>\n",
       "      <td>corrupted</td>\n",
       "    </tr>\n",
       "    <tr>\n",
       "      <th>3</th>\n",
       "      <td>3</td>\n",
       "      <td>994861</td>\n",
       "      <td>female</td>\n",
       "      <td>male</td>\n",
       "      <td>CA</td>\n",
       "      <td>SF Peninsula</td>\n",
       "      <td>46.0</td>\n",
       "      <td>https://s3-us-west-1.amazonaws.com/tawkifyfile...</td>\n",
       "      <td>150000.0</td>\n",
       "      <td>data/tawkify/train/994861.jpg</td>\n",
       "      <td>corrupted</td>\n",
       "    </tr>\n",
       "    <tr>\n",
       "      <th>4</th>\n",
       "      <td>4</td>\n",
       "      <td>996334</td>\n",
       "      <td>male</td>\n",
       "      <td>female</td>\n",
       "      <td>CA</td>\n",
       "      <td>SF City</td>\n",
       "      <td>53.0</td>\n",
       "      <td>https://s3-us-west-1.amazonaws.com/tawkifyfile...</td>\n",
       "      <td>500000.0</td>\n",
       "      <td>data/tawkify/train/996334.jpg</td>\n",
       "      <td>corrupted</td>\n",
       "    </tr>\n",
       "  </tbody>\n",
       "</table>\n",
       "</div>"
      ],
      "text/plain": [
       "   Unnamed: 0  userID  gender attractedToGender fromState    metro_name  \\\n",
       "0           0  996294  female              male        CA  SF Peninsula   \n",
       "1           1  995253  female              male        CA  SF South Bay   \n",
       "2           2  996305    male            female        CA  SF Peninsula   \n",
       "3           3  994861  female              male        CA  SF Peninsula   \n",
       "4           4  996334    male            female        CA       SF City   \n",
       "\n",
       "   User_Age                                         User_Photo  User_Income  \\\n",
       "0      42.0  https://s3-us-west-1.amazonaws.com/tawkifyfile...      80000.0   \n",
       "1      45.0  https://s3-us-west-1.amazonaws.com/tawkifyfile...          0.0   \n",
       "2      28.0  https://s3-us-west-1.amazonaws.com/tawkifyfile...      60000.0   \n",
       "3      46.0  https://s3-us-west-1.amazonaws.com/tawkifyfile...     150000.0   \n",
       "4      53.0  https://s3-us-west-1.amazonaws.com/tawkifyfile...     500000.0   \n",
       "\n",
       "                     local_photo image_type  \n",
       "0  data/tawkify/train/996294.jpg  corrupted  \n",
       "1  data/tawkify/train/995253.jpg  corrupted  \n",
       "2  data/tawkify/train/996305.jpg  corrupted  \n",
       "3  data/tawkify/train/994861.jpg  corrupted  \n",
       "4  data/tawkify/train/996334.jpg  corrupted  "
      ]
     },
     "execution_count": 7,
     "metadata": {},
     "output_type": "execute_result"
    }
   ],
   "source": []
  },
  {
   "cell_type": "code",
   "execution_count": 10,
   "metadata": {},
   "outputs": [],
   "source": [
    "df['img_w'] = np.nan\n",
    "df['img_h'] = np.nan\n",
    "df['img_c'] = np.nan"
   ]
  },
  {
   "cell_type": "code",
   "execution_count": 15,
   "metadata": {},
   "outputs": [
    {
     "name": "stdout",
     "output_type": "stream",
     "text": [
      "(102865, 12)\n",
      "(89193, 12)\n"
     ]
    }
   ],
   "source": [
    "from concurrent.futures import ThreadPoolExecutor, wait, as_completed\n",
    "from time import sleep\n",
    "\n",
    "a = df.loc[(df.local_photo != '') \n",
    "         & (df.local_photo != 'corrupted') \n",
    "         & (df.image_type == 'jpeg') \n",
    "         & ~df.local_photo.isna()\n",
    "         & df.img_w.isna()\n",
    "            ]\n",
    "\n",
    "print(df.shape)\n",
    "print(a.shape)\n",
    "\n",
    "# TEST\n",
    "a = a[:10000]\n",
    "chunk_size = 50\n",
    "# b = a.copy()"
   ]
  },
  {
   "cell_type": "code",
   "execution_count": 18,
   "metadata": {},
   "outputs": [],
   "source": [
    "def get_size(df):\n",
    "    downloaded_images = {}\n",
    "    failed_images = []\n",
    "#     sleep(10)\n",
    "#     return {}, []\n",
    "    for index, row in df.iterrows():\n",
    "        if df.index.name == 'userID':\n",
    "            user_id = index\n",
    "        else:\n",
    "            user_id = row['userID']\n",
    "        image_path = f'{image_folder}{user_id}.jpg'\n",
    "        img_size = plt.imread(image_path).shape\n",
    "        if len(img_size) < 3:\n",
    "            failed_images.append(user_id)\n",
    "            continue\n",
    "        downloaded_images[user_id] = img_size\n",
    "    return downloaded_images, failed_images\n"
   ]
  },
  {
   "cell_type": "code",
   "execution_count": 19,
   "metadata": {},
   "outputs": [
    {
     "name": "stdout",
     "output_type": "stream",
     "text": [
      "\n",
      "\r",
      "  0%|          | 0.00/199 [00:00<?, ?nap/s]"
     ]
    },
    {
     "ename": "KeyboardInterrupt",
     "evalue": "",
     "output_type": "error",
     "traceback": [
      "\u001b[0;31m---------------------------------------------------------------------------\u001b[0m",
      "\u001b[0;31mKeyboardInterrupt\u001b[0m                         Traceback (most recent call last)",
      "\u001b[0;32m<ipython-input-19-279e59bcd935>\u001b[0m in \u001b[0;36m<module>\u001b[0;34m()\u001b[0m\n\u001b[1;32m     13\u001b[0m     }\n\u001b[0;32m---> 14\u001b[0;31m     \u001b[0;32mfor\u001b[0m \u001b[0mx\u001b[0m \u001b[0;32min\u001b[0m \u001b[0mtqdm\u001b[0m\u001b[0;34m(\u001b[0m\u001b[0mas_completed\u001b[0m\u001b[0;34m(\u001b[0m\u001b[0mfutures\u001b[0m\u001b[0;34m)\u001b[0m\u001b[0;34m,\u001b[0m \u001b[0;34m**\u001b[0m\u001b[0mkwargs\u001b[0m\u001b[0;34m)\u001b[0m\u001b[0;34m:\u001b[0m\u001b[0;34m\u001b[0m\u001b[0m\n\u001b[0m\u001b[1;32m     15\u001b[0m         \u001b[0mdl_imgs\u001b[0m\u001b[0;34m,\u001b[0m \u001b[0mfailed\u001b[0m \u001b[0;34m=\u001b[0m \u001b[0mx\u001b[0m\u001b[0;34m.\u001b[0m\u001b[0mresult\u001b[0m\u001b[0;34m(\u001b[0m\u001b[0;34m)\u001b[0m\u001b[0;34m\u001b[0m\u001b[0m\n",
      "\u001b[0;32m~/anaconda3/envs/fastai/lib/python3.6/site-packages/tqdm/_tqdm.py\u001b[0m in \u001b[0;36m__iter__\u001b[0;34m(self)\u001b[0m\n\u001b[1;32m    952\u001b[0m \u001b[0;34m\u001b[0m\u001b[0m\n\u001b[0;32m--> 953\u001b[0;31m             \u001b[0;32mfor\u001b[0m \u001b[0mobj\u001b[0m \u001b[0;32min\u001b[0m \u001b[0miterable\u001b[0m\u001b[0;34m:\u001b[0m\u001b[0;34m\u001b[0m\u001b[0m\n\u001b[0m\u001b[1;32m    954\u001b[0m                 \u001b[0;32myield\u001b[0m \u001b[0mobj\u001b[0m\u001b[0;34m\u001b[0m\u001b[0m\n",
      "\u001b[0;32m~/anaconda3/envs/fastai/lib/python3.6/concurrent/futures/_base.py\u001b[0m in \u001b[0;36mas_completed\u001b[0;34m(fs, timeout)\u001b[0m\n\u001b[1;32m    239\u001b[0m \u001b[0;34m\u001b[0m\u001b[0m\n\u001b[0;32m--> 240\u001b[0;31m             \u001b[0mwaiter\u001b[0m\u001b[0;34m.\u001b[0m\u001b[0mevent\u001b[0m\u001b[0;34m.\u001b[0m\u001b[0mwait\u001b[0m\u001b[0;34m(\u001b[0m\u001b[0mwait_timeout\u001b[0m\u001b[0;34m)\u001b[0m\u001b[0;34m\u001b[0m\u001b[0m\n\u001b[0m\u001b[1;32m    241\u001b[0m \u001b[0;34m\u001b[0m\u001b[0m\n",
      "\u001b[0;32m~/anaconda3/envs/fastai/lib/python3.6/threading.py\u001b[0m in \u001b[0;36mwait\u001b[0;34m(self, timeout)\u001b[0m\n\u001b[1;32m    550\u001b[0m             \u001b[0;32mif\u001b[0m \u001b[0;32mnot\u001b[0m \u001b[0msignaled\u001b[0m\u001b[0;34m:\u001b[0m\u001b[0;34m\u001b[0m\u001b[0m\n\u001b[0;32m--> 551\u001b[0;31m                 \u001b[0msignaled\u001b[0m \u001b[0;34m=\u001b[0m \u001b[0mself\u001b[0m\u001b[0;34m.\u001b[0m\u001b[0m_cond\u001b[0m\u001b[0;34m.\u001b[0m\u001b[0mwait\u001b[0m\u001b[0;34m(\u001b[0m\u001b[0mtimeout\u001b[0m\u001b[0;34m)\u001b[0m\u001b[0;34m\u001b[0m\u001b[0m\n\u001b[0m\u001b[1;32m    552\u001b[0m             \u001b[0;32mreturn\u001b[0m \u001b[0msignaled\u001b[0m\u001b[0;34m\u001b[0m\u001b[0m\n",
      "\u001b[0;32m~/anaconda3/envs/fastai/lib/python3.6/threading.py\u001b[0m in \u001b[0;36mwait\u001b[0;34m(self, timeout)\u001b[0m\n\u001b[1;32m    294\u001b[0m             \u001b[0;32mif\u001b[0m \u001b[0mtimeout\u001b[0m \u001b[0;32mis\u001b[0m \u001b[0;32mNone\u001b[0m\u001b[0;34m:\u001b[0m\u001b[0;34m\u001b[0m\u001b[0m\n\u001b[0;32m--> 295\u001b[0;31m                 \u001b[0mwaiter\u001b[0m\u001b[0;34m.\u001b[0m\u001b[0macquire\u001b[0m\u001b[0;34m(\u001b[0m\u001b[0;34m)\u001b[0m\u001b[0;34m\u001b[0m\u001b[0m\n\u001b[0m\u001b[1;32m    296\u001b[0m                 \u001b[0mgotit\u001b[0m \u001b[0;34m=\u001b[0m \u001b[0;32mTrue\u001b[0m\u001b[0;34m\u001b[0m\u001b[0m\n",
      "\u001b[0;31mKeyboardInterrupt\u001b[0m: ",
      "\nDuring handling of the above exception, another exception occurred:\n",
      "\u001b[0;31mKeyboardInterrupt\u001b[0m                         Traceback (most recent call last)",
      "\u001b[0;32m<ipython-input-19-279e59bcd935>\u001b[0m in \u001b[0;36m<module>\u001b[0;34m()\u001b[0m\n\u001b[1;32m     33\u001b[0m \u001b[0;31m#             failed_df.set_index('userID', inplace=True)\u001b[0m\u001b[0;34m\u001b[0m\u001b[0;34m\u001b[0m\u001b[0m\n\u001b[1;32m     34\u001b[0m \u001b[0;31m#         df.update(failed_df)\u001b[0m\u001b[0;34m\u001b[0m\u001b[0;34m\u001b[0m\u001b[0m\n\u001b[0;32m---> 35\u001b[0;31m     \u001b[0mdf\u001b[0m\u001b[0;34m.\u001b[0m\u001b[0mreset_index\u001b[0m\u001b[0;34m(\u001b[0m\u001b[0;34m)\u001b[0m \u001b[0;31m# do we need this?\u001b[0m\u001b[0;34m\u001b[0m\u001b[0m\n\u001b[0m",
      "\u001b[0;32m~/anaconda3/envs/fastai/lib/python3.6/concurrent/futures/_base.py\u001b[0m in \u001b[0;36m__exit__\u001b[0;34m(self, exc_type, exc_val, exc_tb)\u001b[0m\n\u001b[1;32m    609\u001b[0m \u001b[0;34m\u001b[0m\u001b[0m\n\u001b[1;32m    610\u001b[0m     \u001b[0;32mdef\u001b[0m \u001b[0m__exit__\u001b[0m\u001b[0;34m(\u001b[0m\u001b[0mself\u001b[0m\u001b[0;34m,\u001b[0m \u001b[0mexc_type\u001b[0m\u001b[0;34m,\u001b[0m \u001b[0mexc_val\u001b[0m\u001b[0;34m,\u001b[0m \u001b[0mexc_tb\u001b[0m\u001b[0;34m)\u001b[0m\u001b[0;34m:\u001b[0m\u001b[0;34m\u001b[0m\u001b[0m\n\u001b[0;32m--> 611\u001b[0;31m         \u001b[0mself\u001b[0m\u001b[0;34m.\u001b[0m\u001b[0mshutdown\u001b[0m\u001b[0;34m(\u001b[0m\u001b[0mwait\u001b[0m\u001b[0;34m=\u001b[0m\u001b[0;32mTrue\u001b[0m\u001b[0;34m)\u001b[0m\u001b[0;34m\u001b[0m\u001b[0m\n\u001b[0m\u001b[1;32m    612\u001b[0m         \u001b[0;32mreturn\u001b[0m \u001b[0;32mFalse\u001b[0m\u001b[0;34m\u001b[0m\u001b[0m\n",
      "\u001b[0;32m~/anaconda3/envs/fastai/lib/python3.6/concurrent/futures/thread.py\u001b[0m in \u001b[0;36mshutdown\u001b[0;34m(self, wait)\u001b[0m\n\u001b[1;32m    150\u001b[0m         \u001b[0;32mif\u001b[0m \u001b[0mwait\u001b[0m\u001b[0;34m:\u001b[0m\u001b[0;34m\u001b[0m\u001b[0m\n\u001b[1;32m    151\u001b[0m             \u001b[0;32mfor\u001b[0m \u001b[0mt\u001b[0m \u001b[0;32min\u001b[0m \u001b[0mself\u001b[0m\u001b[0;34m.\u001b[0m\u001b[0m_threads\u001b[0m\u001b[0;34m:\u001b[0m\u001b[0;34m\u001b[0m\u001b[0m\n\u001b[0;32m--> 152\u001b[0;31m                 \u001b[0mt\u001b[0m\u001b[0;34m.\u001b[0m\u001b[0mjoin\u001b[0m\u001b[0;34m(\u001b[0m\u001b[0;34m)\u001b[0m\u001b[0;34m\u001b[0m\u001b[0m\n\u001b[0m\u001b[1;32m    153\u001b[0m     \u001b[0mshutdown\u001b[0m\u001b[0;34m.\u001b[0m\u001b[0m__doc__\u001b[0m \u001b[0;34m=\u001b[0m \u001b[0m_base\u001b[0m\u001b[0;34m.\u001b[0m\u001b[0mExecutor\u001b[0m\u001b[0;34m.\u001b[0m\u001b[0mshutdown\u001b[0m\u001b[0;34m.\u001b[0m\u001b[0m__doc__\u001b[0m\u001b[0;34m\u001b[0m\u001b[0m\n",
      "\u001b[0;32m~/anaconda3/envs/fastai/lib/python3.6/threading.py\u001b[0m in \u001b[0;36mjoin\u001b[0;34m(self, timeout)\u001b[0m\n\u001b[1;32m   1054\u001b[0m \u001b[0;34m\u001b[0m\u001b[0m\n\u001b[1;32m   1055\u001b[0m         \u001b[0;32mif\u001b[0m \u001b[0mtimeout\u001b[0m \u001b[0;32mis\u001b[0m \u001b[0;32mNone\u001b[0m\u001b[0;34m:\u001b[0m\u001b[0;34m\u001b[0m\u001b[0m\n\u001b[0;32m-> 1056\u001b[0;31m             \u001b[0mself\u001b[0m\u001b[0;34m.\u001b[0m\u001b[0m_wait_for_tstate_lock\u001b[0m\u001b[0;34m(\u001b[0m\u001b[0;34m)\u001b[0m\u001b[0;34m\u001b[0m\u001b[0m\n\u001b[0m\u001b[1;32m   1057\u001b[0m         \u001b[0;32melse\u001b[0m\u001b[0;34m:\u001b[0m\u001b[0;34m\u001b[0m\u001b[0m\n\u001b[1;32m   1058\u001b[0m             \u001b[0;31m# the behavior of a negative timeout isn't documented, but\u001b[0m\u001b[0;34m\u001b[0m\u001b[0;34m\u001b[0m\u001b[0m\n",
      "\u001b[0;32m~/anaconda3/envs/fastai/lib/python3.6/threading.py\u001b[0m in \u001b[0;36m_wait_for_tstate_lock\u001b[0;34m(self, block, timeout)\u001b[0m\n\u001b[1;32m   1070\u001b[0m         \u001b[0;32mif\u001b[0m \u001b[0mlock\u001b[0m \u001b[0;32mis\u001b[0m \u001b[0;32mNone\u001b[0m\u001b[0;34m:\u001b[0m  \u001b[0;31m# already determined that the C code is done\u001b[0m\u001b[0;34m\u001b[0m\u001b[0m\n\u001b[1;32m   1071\u001b[0m             \u001b[0;32massert\u001b[0m \u001b[0mself\u001b[0m\u001b[0;34m.\u001b[0m\u001b[0m_is_stopped\u001b[0m\u001b[0;34m\u001b[0m\u001b[0m\n\u001b[0;32m-> 1072\u001b[0;31m         \u001b[0;32melif\u001b[0m \u001b[0mlock\u001b[0m\u001b[0;34m.\u001b[0m\u001b[0macquire\u001b[0m\u001b[0;34m(\u001b[0m\u001b[0mblock\u001b[0m\u001b[0;34m,\u001b[0m \u001b[0mtimeout\u001b[0m\u001b[0;34m)\u001b[0m\u001b[0;34m:\u001b[0m\u001b[0;34m\u001b[0m\u001b[0m\n\u001b[0m\u001b[1;32m   1073\u001b[0m             \u001b[0mlock\u001b[0m\u001b[0;34m.\u001b[0m\u001b[0mrelease\u001b[0m\u001b[0;34m(\u001b[0m\u001b[0;34m)\u001b[0m\u001b[0;34m\u001b[0m\u001b[0m\n\u001b[1;32m   1074\u001b[0m             \u001b[0mself\u001b[0m\u001b[0;34m.\u001b[0m\u001b[0m_stop\u001b[0m\u001b[0;34m(\u001b[0m\u001b[0;34m)\u001b[0m\u001b[0;34m\u001b[0m\u001b[0m\n",
      "\u001b[0;31mKeyboardInterrupt\u001b[0m: "
     ]
    }
   ],
   "source": [
    "futures = []\n",
    "with ThreadPoolExecutor(8) as executor:\n",
    "    for chunk in range(chunk_size, a.shape[0], chunk_size):\n",
    "        idx_end = max(a.shape[0], chunk+chunk_size)\n",
    "        futures.append(executor.submit(get_size, a[chunk:idx_end].copy()))\n",
    "\n",
    "    kwargs = {\n",
    "        'total': len(futures),\n",
    "        'unit': 'nap',\n",
    "        'unit_scale': True,\n",
    "        'leave': True,\n",
    "        'disable': False\n",
    "    }\n",
    "    for x in tqdm(as_completed(futures), **kwargs):\n",
    "        dl_imgs, failed = x.result()\n",
    "        img_sizes = list(dl_imgs.values())\n",
    "        img_w = [x[1] for x in img_sizes]\n",
    "        img_h = [x[0] for x in img_sizes]\n",
    "        img_c = [x[2] for x in img_sizes]\n",
    "        df_data = {'userID': list(dl_imgs.keys()), \n",
    "                   'img_c': img_c,\n",
    "                   'img_w': img_w,\n",
    "                   'img_h': img_h}\n",
    "        update_df = pd.DataFrame(df_data)\n",
    "        if update_df.index.name != 'userID':\n",
    "            update_df.set_index('userID', inplace=True)\n",
    "        if df.index.name != 'userID':\n",
    "            df.set_index('userID', inplace=True)\n",
    "        df.update(update_df, overwrite=True)\n",
    "        \n",
    "#         failed_df = pd.DataFrame({'userID': list(failed), 'local_photo': 'corrupted', 'image_type': 'corrupted'})\n",
    "#         if failed_df.index.name != 'userID':\n",
    "#             failed_df.set_index('userID', inplace=True)\n",
    "#         df.update(failed_df)\n",
    "    df.reset_index() # do we need this?"
   ]
  },
  {
   "cell_type": "code",
   "execution_count": null,
   "metadata": {},
   "outputs": [],
   "source": [
    "df.head()"
   ]
  },
  {
   "cell_type": "code",
   "execution_count": null,
   "metadata": {},
   "outputs": [],
   "source": [
    "def remove_image(idx):\n",
    "    img = img_df.at[idx, 'local_photo']\n",
    "    if img == 'corrupted':\n",
    "        return\n",
    "    print(img)\n",
    "    if len(plt.imread(img).shape) >= 3:\n",
    "        print('Not bad file:', img)\n",
    "        return\n",
    "    img_df.at[idx, 'local_photo'] = 'corrupted'\n",
    "    img_df.at[idx, 'image_type'] = 'corrupted'\n",
    "    try:\n",
    "        os.rename(file, file.replace('train', 'corrupted'))\n",
    "    except Exception as e:\n",
    "        pass"
   ]
  },
  {
   "cell_type": "code",
   "execution_count": null,
   "metadata": {},
   "outputs": [],
   "source": [
    "plt.imread('data/tawkify/train/52426.jpg').shape"
   ]
  },
  {
   "cell_type": "code",
   "execution_count": null,
   "metadata": {},
   "outputs": [],
   "source": [
    "plt.hist(w)"
   ]
  },
  {
   "cell_type": "code",
   "execution_count": null,
   "metadata": {},
   "outputs": [],
   "source": [
    "w = np.array(w)\n",
    "plt.hist(w[w<200])"
   ]
  },
  {
   "cell_type": "markdown",
   "metadata": {},
   "source": [
    "### Check for bad images through image header"
   ]
  },
  {
   "cell_type": "code",
   "execution_count": null,
   "metadata": {},
   "outputs": [],
   "source": [
    "# filter_images = df.loc[(df.local_photo == 'data/tawkify/train/922512.jpg')]"
   ]
  },
  {
   "cell_type": "code",
   "execution_count": null,
   "metadata": {},
   "outputs": [],
   "source": [
    "filter_images = df.loc[(df.local_photo != '') \n",
    "                       & ~df.local_photo.isna() \n",
    "                       & (df.image_type.isna() | (df.image_type == ''))]\n",
    "filter_images.reset_index(inplace=True)"
   ]
  },
  {
   "cell_type": "code",
   "execution_count": null,
   "metadata": {},
   "outputs": [],
   "source": [
    "import imghdr\n",
    "corrupted = []\n",
    "for idx, row in tqdm(filter_images.iterrows(), total=filter_images.shape[0]):\n",
    "    file = row.local_photo\n",
    "    image_type = None\n",
    "    try:\n",
    "        image_type = imghdr.what(file)\n",
    "    except Exception as e:\n",
    "        image_type = 'corrupted'\n",
    "    if image_type is None:\n",
    "        image_type = 'corrupted'\n",
    "    df.at[idx, 'image_type'] = image_type\n",
    "    \n",
    "    if image_type is not 'jpeg':\n",
    "        try:\n",
    "            os.rename(file, file.replace('train', 'corrupted'))\n",
    "            corrupted.append(file)\n",
    "        except Exception as e:\n",
    "            # file already removed\n",
    "            pass\n",
    "    if idx % 10000 == 0:\n",
    "        print(f'Found {len(corrupted)} files')"
   ]
  },
  {
   "cell_type": "code",
   "execution_count": null,
   "metadata": {},
   "outputs": [],
   "source": [
    "df.loc[df.userID == 922512]"
   ]
  },
  {
   "cell_type": "code",
   "execution_count": null,
   "metadata": {},
   "outputs": [],
   "source": [
    "filter_images.head()"
   ]
  },
  {
   "cell_type": "code",
   "execution_count": null,
   "metadata": {},
   "outputs": [],
   "source": [
    "file = 'data/tawkify/train/922512.jpg'\n",
    "print(imghdr.what(file))"
   ]
  },
  {
   "cell_type": "markdown",
   "metadata": {},
   "source": [
    "## Removing images by warnings"
   ]
  },
  {
   "cell_type": "code",
   "execution_count": null,
   "metadata": {},
   "outputs": [],
   "source": [
    "\n",
    "import warnings\n",
    "warnings.filterwarnings(\"error\")\n",
    "filter_images = df.loc[(df.image_type == 'jpeg')]\n",
    "# filter_images.reset_index(inplace=True)\n",
    "\n",
    "import imghdr\n",
    "corrupted = []\n",
    "for idx, row in tqdm(filter_images.iterrows(), total=filter_images.shape[0]):\n",
    "    file = row.local_photo\n",
    "    image_type = None\n",
    "    try:\n",
    "        a = Image.open(file)\n",
    "    except (UserWarning, ResourceWarning):\n",
    "        corrupted.append((idx, file))"
   ]
  },
  {
   "cell_type": "code",
   "execution_count": null,
   "metadata": {},
   "outputs": [],
   "source": [
    "corrupted"
   ]
  },
  {
   "cell_type": "code",
   "execution_count": null,
   "metadata": {},
   "outputs": [],
   "source": [
    "df.iloc[3291]"
   ]
  },
  {
   "cell_type": "markdown",
   "metadata": {},
   "source": [
    "### Remove corrupted images"
   ]
  },
  {
   "cell_type": "code",
   "execution_count": null,
   "metadata": {},
   "outputs": [],
   "source": [
    "def remove_image(idx, file):\n",
    "    assert(df.at[idx, 'local_photo'] == file)\n",
    "    df.at[idx, 'local_photo'] = 'corrupted'\n",
    "    df.at[idx, 'image_type'] = 'corrupted'\n",
    "    os.rename(file, file.replace('train', 'corrupted'))"
   ]
  },
  {
   "cell_type": "code",
   "execution_count": null,
   "metadata": {},
   "outputs": [],
   "source": [
    "df.at[corrupted[0][0], 'local_photo']"
   ]
  },
  {
   "cell_type": "code",
   "execution_count": null,
   "metadata": {},
   "outputs": [],
   "source": [
    "\n",
    "for idx, file in corrupted[1:]:\n",
    "    remove_image(idx, file)"
   ]
  },
  {
   "cell_type": "code",
   "execution_count": null,
   "metadata": {},
   "outputs": [],
   "source": [
    "Image.open('data/tawkify/train/989651.jpg')"
   ]
  },
  {
   "cell_type": "code",
   "execution_count": null,
   "metadata": {},
   "outputs": [],
   "source": []
  }
 ],
 "metadata": {
  "kernelspec": {
   "display_name": "Python 3",
   "language": "python",
   "name": "python3"
  },
  "language_info": {
   "codemirror_mode": {
    "name": "ipython",
    "version": 3
   },
   "file_extension": ".py",
   "mimetype": "text/x-python",
   "name": "python",
   "nbconvert_exporter": "python",
   "pygments_lexer": "ipython3",
   "version": "3.6.4"
  }
 },
 "nbformat": 4,
 "nbformat_minor": 2
}
