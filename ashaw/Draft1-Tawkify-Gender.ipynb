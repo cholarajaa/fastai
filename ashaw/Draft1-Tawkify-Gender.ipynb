{
 "cells": [
  {
   "cell_type": "code",
   "execution_count": 1,
   "metadata": {},
   "outputs": [],
   "source": [
    "# Put these at the top of every notebook, to get automatic reloading and inline plotting\n",
    "%reload_ext autoreload\n",
    "%autoreload 2\n",
    "%matplotlib inline"
   ]
  },
  {
   "cell_type": "code",
   "execution_count": 2,
   "metadata": {},
   "outputs": [],
   "source": [
    "# This file contains all the main external libs we'll use\n",
    "from fastai.imports import *"
   ]
  },
  {
   "cell_type": "code",
   "execution_count": 3,
   "metadata": {},
   "outputs": [],
   "source": [
    "from fastai.transforms import *\n",
    "from fastai.conv_learner import *\n",
    "from fastai.model import *\n",
    "from fastai.dataset import *\n",
    "from fastai.sgdr import *\n",
    "from fastai.plots import *\n",
    "\n",
    "import urllib\n",
    "from PIL import Image"
   ]
  },
  {
   "cell_type": "code",
   "execution_count": 4,
   "metadata": {},
   "outputs": [],
   "source": [
    "PATH = 'data/tawkify/'\n",
    "image_folder = f'{PATH}train/'\n",
    "data_csv = PATH+'tw_dem_images.csv'\n",
    "image_csv = PATH+'image_csv.csv'"
   ]
  },
  {
   "cell_type": "code",
   "execution_count": 5,
   "metadata": {},
   "outputs": [],
   "source": [
    "sz=220"
   ]
  },
  {
   "cell_type": "markdown",
   "metadata": {},
   "source": [
    "### Load Data"
   ]
  },
  {
   "cell_type": "code",
   "execution_count": 7,
   "metadata": {},
   "outputs": [],
   "source": [
    "# df = pd.read_csv(PATH+'Photo_Income_Age_2.8.18.csv')"
   ]
  },
  {
   "cell_type": "code",
   "execution_count": 9,
   "metadata": {},
   "outputs": [],
   "source": [
    "df = pd.read_csv(data_csv, dtype={'local_photo': 'object', 'image_type': 'object'})"
   ]
  },
  {
   "cell_type": "code",
   "execution_count": null,
   "metadata": {},
   "outputs": [],
   "source": [
    "df.columns"
   ]
  },
  {
   "cell_type": "code",
   "execution_count": null,
   "metadata": {},
   "outputs": [],
   "source": [
    "df['userID'].size"
   ]
  },
  {
   "cell_type": "code",
   "execution_count": 47,
   "metadata": {},
   "outputs": [],
   "source": [
    "# df.drop('Unnamed: 0.1', axis=1, inplace=True)"
   ]
  },
  {
   "cell_type": "code",
   "execution_count": 93,
   "metadata": {},
   "outputs": [
    {
     "data": {
      "text/html": [
       "<div>\n",
       "<style scoped>\n",
       "    .dataframe tbody tr th:only-of-type {\n",
       "        vertical-align: middle;\n",
       "    }\n",
       "\n",
       "    .dataframe tbody tr th {\n",
       "        vertical-align: top;\n",
       "    }\n",
       "\n",
       "    .dataframe thead th {\n",
       "        text-align: right;\n",
       "    }\n",
       "</style>\n",
       "<table border=\"1\" class=\"dataframe\">\n",
       "  <thead>\n",
       "    <tr style=\"text-align: right;\">\n",
       "      <th></th>\n",
       "      <th>userID</th>\n",
       "      <th>gender</th>\n",
       "      <th>attractedToGender</th>\n",
       "      <th>fromState</th>\n",
       "      <th>metro_name</th>\n",
       "      <th>User_Age</th>\n",
       "      <th>User_Photo</th>\n",
       "      <th>User_Income</th>\n",
       "      <th>local_photo</th>\n",
       "      <th>image_type</th>\n",
       "    </tr>\n",
       "  </thead>\n",
       "  <tbody>\n",
       "    <tr>\n",
       "      <th>0</th>\n",
       "      <td>996294</td>\n",
       "      <td>female</td>\n",
       "      <td>male</td>\n",
       "      <td>CA</td>\n",
       "      <td>SF Peninsula</td>\n",
       "      <td>42.0</td>\n",
       "      <td>https://s3-us-west-1.amazonaws.com/tawkifyfile...</td>\n",
       "      <td>80000.0</td>\n",
       "      <td>data/tawkify/train/996294.jpg</td>\n",
       "      <td>corrupted</td>\n",
       "    </tr>\n",
       "    <tr>\n",
       "      <th>1</th>\n",
       "      <td>995253</td>\n",
       "      <td>female</td>\n",
       "      <td>male</td>\n",
       "      <td>CA</td>\n",
       "      <td>SF South Bay</td>\n",
       "      <td>45.0</td>\n",
       "      <td>https://s3-us-west-1.amazonaws.com/tawkifyfile...</td>\n",
       "      <td>0.0</td>\n",
       "      <td>data/tawkify/train/995253.jpg</td>\n",
       "      <td>corrupted</td>\n",
       "    </tr>\n",
       "    <tr>\n",
       "      <th>2</th>\n",
       "      <td>996305</td>\n",
       "      <td>male</td>\n",
       "      <td>female</td>\n",
       "      <td>CA</td>\n",
       "      <td>SF Peninsula</td>\n",
       "      <td>28.0</td>\n",
       "      <td>https://s3-us-west-1.amazonaws.com/tawkifyfile...</td>\n",
       "      <td>60000.0</td>\n",
       "      <td>data/tawkify/train/996305.jpg</td>\n",
       "      <td>corrupted</td>\n",
       "    </tr>\n",
       "    <tr>\n",
       "      <th>3</th>\n",
       "      <td>994861</td>\n",
       "      <td>female</td>\n",
       "      <td>male</td>\n",
       "      <td>CA</td>\n",
       "      <td>SF Peninsula</td>\n",
       "      <td>46.0</td>\n",
       "      <td>https://s3-us-west-1.amazonaws.com/tawkifyfile...</td>\n",
       "      <td>150000.0</td>\n",
       "      <td>data/tawkify/train/994861.jpg</td>\n",
       "      <td>corrupted</td>\n",
       "    </tr>\n",
       "    <tr>\n",
       "      <th>4</th>\n",
       "      <td>996334</td>\n",
       "      <td>male</td>\n",
       "      <td>female</td>\n",
       "      <td>CA</td>\n",
       "      <td>SF City</td>\n",
       "      <td>53.0</td>\n",
       "      <td>https://s3-us-west-1.amazonaws.com/tawkifyfile...</td>\n",
       "      <td>500000.0</td>\n",
       "      <td>data/tawkify/train/996334.jpg</td>\n",
       "      <td>corrupted</td>\n",
       "    </tr>\n",
       "  </tbody>\n",
       "</table>\n",
       "</div>"
      ],
      "text/plain": [
       "   userID  gender attractedToGender fromState    metro_name  User_Age  \\\n",
       "0  996294  female              male        CA  SF Peninsula      42.0   \n",
       "1  995253  female              male        CA  SF South Bay      45.0   \n",
       "2  996305    male            female        CA  SF Peninsula      28.0   \n",
       "3  994861  female              male        CA  SF Peninsula      46.0   \n",
       "4  996334    male            female        CA       SF City      53.0   \n",
       "\n",
       "                                          User_Photo  User_Income  \\\n",
       "0  https://s3-us-west-1.amazonaws.com/tawkifyfile...      80000.0   \n",
       "1  https://s3-us-west-1.amazonaws.com/tawkifyfile...          0.0   \n",
       "2  https://s3-us-west-1.amazonaws.com/tawkifyfile...      60000.0   \n",
       "3  https://s3-us-west-1.amazonaws.com/tawkifyfile...     150000.0   \n",
       "4  https://s3-us-west-1.amazonaws.com/tawkifyfile...     500000.0   \n",
       "\n",
       "                     local_photo image_type  \n",
       "0  data/tawkify/train/996294.jpg  corrupted  \n",
       "1  data/tawkify/train/995253.jpg  corrupted  \n",
       "2  data/tawkify/train/996305.jpg  corrupted  \n",
       "3  data/tawkify/train/994861.jpg  corrupted  \n",
       "4  data/tawkify/train/996334.jpg  corrupted  "
      ]
     },
     "execution_count": 93,
     "metadata": {},
     "output_type": "execute_result"
    }
   ],
   "source": [
    "df.head()"
   ]
  },
  {
   "cell_type": "code",
   "execution_count": 94,
   "metadata": {},
   "outputs": [
    {
     "data": {
      "text/plain": [
       "42648    True\n",
       "Name: image_type, dtype: bool"
      ]
     },
     "execution_count": 94,
     "metadata": {},
     "output_type": "execute_result"
    }
   ],
   "source": [
    "df.loc[df.userID == 922512].image_type.isna()"
   ]
  },
  {
   "cell_type": "markdown",
   "metadata": {},
   "source": [
    "### In case we need to delete bad images from the dataframe"
   ]
  },
  {
   "cell_type": "code",
   "execution_count": 72,
   "metadata": {},
   "outputs": [
    {
     "data": {
      "text/html": [
       "<div>\n",
       "<style scoped>\n",
       "    .dataframe tbody tr th:only-of-type {\n",
       "        vertical-align: middle;\n",
       "    }\n",
       "\n",
       "    .dataframe tbody tr th {\n",
       "        vertical-align: top;\n",
       "    }\n",
       "\n",
       "    .dataframe thead th {\n",
       "        text-align: right;\n",
       "    }\n",
       "</style>\n",
       "<table border=\"1\" class=\"dataframe\">\n",
       "  <thead>\n",
       "    <tr style=\"text-align: right;\">\n",
       "      <th></th>\n",
       "      <th>Unnamed: 0</th>\n",
       "      <th>userID</th>\n",
       "      <th>gender</th>\n",
       "      <th>attractedToGender</th>\n",
       "      <th>fromState</th>\n",
       "      <th>metro_name</th>\n",
       "      <th>User_Age</th>\n",
       "      <th>User_Photo</th>\n",
       "      <th>User_Income</th>\n",
       "      <th>local_photo</th>\n",
       "      <th>image_type</th>\n",
       "    </tr>\n",
       "  </thead>\n",
       "  <tbody>\n",
       "    <tr>\n",
       "      <th>42648</th>\n",
       "      <td>42648</td>\n",
       "      <td>922512</td>\n",
       "      <td>male</td>\n",
       "      <td>female</td>\n",
       "      <td>PA</td>\n",
       "      <td>Philadelphia</td>\n",
       "      <td>47.0</td>\n",
       "      <td>https://s3-us-west-1.amazonaws.com/tawkifyfile...</td>\n",
       "      <td>40000.0</td>\n",
       "      <td>data/tawkify/train/922512.jpg</td>\n",
       "      <td>None</td>\n",
       "    </tr>\n",
       "  </tbody>\n",
       "</table>\n",
       "</div>"
      ],
      "text/plain": [
       "       Unnamed: 0  userID gender attractedToGender fromState    metro_name  \\\n",
       "42648       42648  922512   male            female        PA  Philadelphia   \n",
       "\n",
       "       User_Age                                         User_Photo  \\\n",
       "42648      47.0  https://s3-us-west-1.amazonaws.com/tawkifyfile...   \n",
       "\n",
       "       User_Income                    local_photo image_type  \n",
       "42648      40000.0  data/tawkify/train/922512.jpg       None  "
      ]
     },
     "execution_count": 72,
     "metadata": {},
     "output_type": "execute_result"
    }
   ],
   "source": [
    "df.loc[df.local_photo == 'data/tawkify/train/921661.jpg']"
   ]
  },
  {
   "cell_type": "code",
   "execution_count": 33,
   "metadata": {},
   "outputs": [],
   "source": [
    "df.at[42785, 'local_photo'] = 'corrupted'\n",
    "df.at[42785, 'image_type'] = 'corrupted'"
   ]
  },
  {
   "cell_type": "markdown",
   "metadata": {},
   "source": [
    "### Check for bad images instead"
   ]
  },
  {
   "cell_type": "code",
   "execution_count": 129,
   "metadata": {},
   "outputs": [
    {
     "data": {
      "text/html": [
       "<div>\n",
       "<style scoped>\n",
       "    .dataframe tbody tr th:only-of-type {\n",
       "        vertical-align: middle;\n",
       "    }\n",
       "\n",
       "    .dataframe tbody tr th {\n",
       "        vertical-align: top;\n",
       "    }\n",
       "\n",
       "    .dataframe thead th {\n",
       "        text-align: right;\n",
       "    }\n",
       "</style>\n",
       "<table border=\"1\" class=\"dataframe\">\n",
       "  <thead>\n",
       "    <tr style=\"text-align: right;\">\n",
       "      <th></th>\n",
       "      <th>userID</th>\n",
       "      <th>gender</th>\n",
       "      <th>attractedToGender</th>\n",
       "      <th>fromState</th>\n",
       "      <th>metro_name</th>\n",
       "      <th>User_Age</th>\n",
       "      <th>User_Photo</th>\n",
       "      <th>User_Income</th>\n",
       "      <th>local_photo</th>\n",
       "      <th>image_type</th>\n",
       "    </tr>\n",
       "  </thead>\n",
       "  <tbody>\n",
       "    <tr>\n",
       "      <th>34644</th>\n",
       "      <td>937505</td>\n",
       "      <td>male</td>\n",
       "      <td>female</td>\n",
       "      <td>TX</td>\n",
       "      <td>NaN</td>\n",
       "      <td>53.0</td>\n",
       "      <td>https://s3-us-west-1.amazonaws.com/tawkifyfile...</td>\n",
       "      <td>80000.0</td>\n",
       "      <td>data/tawkify/train/937505.jpg</td>\n",
       "      <td>gif</td>\n",
       "    </tr>\n",
       "  </tbody>\n",
       "</table>\n",
       "</div>"
      ],
      "text/plain": [
       "       userID gender attractedToGender fromState metro_name  User_Age  \\\n",
       "34644  937505   male            female        TX        NaN      53.0   \n",
       "\n",
       "                                              User_Photo  User_Income  \\\n",
       "34644  https://s3-us-west-1.amazonaws.com/tawkifyfile...      80000.0   \n",
       "\n",
       "                         local_photo image_type  \n",
       "34644  data/tawkify/train/937505.jpg        gif  "
      ]
     },
     "execution_count": 129,
     "metadata": {},
     "output_type": "execute_result"
    }
   ],
   "source": [
    "df.loc[df.userID == 937505]"
   ]
  },
  {
   "cell_type": "code",
   "execution_count": 48,
   "metadata": {},
   "outputs": [],
   "source": [
    "# If you want to replace nan files in local_photo\n",
    "# df.local_photo.replace(np.nan, '', inplace=True)"
   ]
  },
  {
   "cell_type": "code",
   "execution_count": 52,
   "metadata": {},
   "outputs": [],
   "source": [
    "# img_df = df.loc[(df.local_photo == 'data/tawkify/train/922512.jpg')]"
   ]
  },
  {
   "cell_type": "code",
   "execution_count": 136,
   "metadata": {},
   "outputs": [],
   "source": [
    "img_df = df.loc[(df.local_photo != '') & ~df.local_photo.isna()]"
   ]
  },
  {
   "cell_type": "code",
   "execution_count": 137,
   "metadata": {},
   "outputs": [],
   "source": [
    "import imghdr\n",
    "for idx, row in img_df.iterrows():\n",
    "    file = row.local_photo\n",
    "    image_type = None\n",
    "    try:\n",
    "        image_type = imghdr.what(file)\n",
    "    except Exception as e:\n",
    "        image_type = 'corrupted'\n",
    "    if image_type is None:\n",
    "        image_type = 'corrupted'\n",
    "    df.at[idx, 'image_type'] = image_type\n",
    "    \n",
    "    if image_type is not 'jpeg':\n",
    "        try:\n",
    "            os.rename(file, file.replace('train', 'corrupted'))\n",
    "        except Exception as e:\n",
    "            # file already removed\n",
    "            pass"
   ]
  },
  {
   "cell_type": "code",
   "execution_count": 111,
   "metadata": {},
   "outputs": [
    {
     "data": {
      "text/html": [
       "<div>\n",
       "<style scoped>\n",
       "    .dataframe tbody tr th:only-of-type {\n",
       "        vertical-align: middle;\n",
       "    }\n",
       "\n",
       "    .dataframe tbody tr th {\n",
       "        vertical-align: top;\n",
       "    }\n",
       "\n",
       "    .dataframe thead th {\n",
       "        text-align: right;\n",
       "    }\n",
       "</style>\n",
       "<table border=\"1\" class=\"dataframe\">\n",
       "  <thead>\n",
       "    <tr style=\"text-align: right;\">\n",
       "      <th></th>\n",
       "      <th>userID</th>\n",
       "      <th>gender</th>\n",
       "      <th>attractedToGender</th>\n",
       "      <th>fromState</th>\n",
       "      <th>metro_name</th>\n",
       "      <th>User_Age</th>\n",
       "      <th>User_Photo</th>\n",
       "      <th>User_Income</th>\n",
       "      <th>local_photo</th>\n",
       "      <th>image_type</th>\n",
       "    </tr>\n",
       "  </thead>\n",
       "  <tbody>\n",
       "    <tr>\n",
       "      <th>42648</th>\n",
       "      <td>922512</td>\n",
       "      <td>male</td>\n",
       "      <td>female</td>\n",
       "      <td>PA</td>\n",
       "      <td>Philadelphia</td>\n",
       "      <td>47.0</td>\n",
       "      <td>https://s3-us-west-1.amazonaws.com/tawkifyfile...</td>\n",
       "      <td>40000.0</td>\n",
       "      <td>data/tawkify/train/922512.jpg</td>\n",
       "      <td>corrupted</td>\n",
       "    </tr>\n",
       "  </tbody>\n",
       "</table>\n",
       "</div>"
      ],
      "text/plain": [
       "       userID gender attractedToGender fromState    metro_name  User_Age  \\\n",
       "42648  922512   male            female        PA  Philadelphia      47.0   \n",
       "\n",
       "                                              User_Photo  User_Income  \\\n",
       "42648  https://s3-us-west-1.amazonaws.com/tawkifyfile...      40000.0   \n",
       "\n",
       "                         local_photo image_type  \n",
       "42648  data/tawkify/train/922512.jpg  corrupted  "
      ]
     },
     "execution_count": 111,
     "metadata": {},
     "output_type": "execute_result"
    }
   ],
   "source": [
    "df.loc[df.userID == 922512]"
   ]
  },
  {
   "cell_type": "code",
   "execution_count": 55,
   "metadata": {},
   "outputs": [
    {
     "data": {
      "text/html": [
       "<div>\n",
       "<style scoped>\n",
       "    .dataframe tbody tr th:only-of-type {\n",
       "        vertical-align: middle;\n",
       "    }\n",
       "\n",
       "    .dataframe tbody tr th {\n",
       "        vertical-align: top;\n",
       "    }\n",
       "\n",
       "    .dataframe thead th {\n",
       "        text-align: right;\n",
       "    }\n",
       "</style>\n",
       "<table border=\"1\" class=\"dataframe\">\n",
       "  <thead>\n",
       "    <tr style=\"text-align: right;\">\n",
       "      <th></th>\n",
       "      <th>Unnamed: 0</th>\n",
       "      <th>userID</th>\n",
       "      <th>gender</th>\n",
       "      <th>attractedToGender</th>\n",
       "      <th>fromState</th>\n",
       "      <th>metro_name</th>\n",
       "      <th>User_Age</th>\n",
       "      <th>User_Photo</th>\n",
       "      <th>User_Income</th>\n",
       "      <th>local_photo</th>\n",
       "      <th>image_type</th>\n",
       "    </tr>\n",
       "  </thead>\n",
       "  <tbody>\n",
       "    <tr>\n",
       "      <th>0</th>\n",
       "      <td>0</td>\n",
       "      <td>996294</td>\n",
       "      <td>female</td>\n",
       "      <td>male</td>\n",
       "      <td>CA</td>\n",
       "      <td>SF Peninsula</td>\n",
       "      <td>42.0</td>\n",
       "      <td>https://s3-us-west-1.amazonaws.com/tawkifyfile...</td>\n",
       "      <td>80000.0</td>\n",
       "      <td>data/tawkify/train/996294.jpg</td>\n",
       "      <td>jpeg</td>\n",
       "    </tr>\n",
       "    <tr>\n",
       "      <th>1</th>\n",
       "      <td>1</td>\n",
       "      <td>995253</td>\n",
       "      <td>female</td>\n",
       "      <td>male</td>\n",
       "      <td>CA</td>\n",
       "      <td>SF South Bay</td>\n",
       "      <td>45.0</td>\n",
       "      <td>https://s3-us-west-1.amazonaws.com/tawkifyfile...</td>\n",
       "      <td>0.0</td>\n",
       "      <td>data/tawkify/train/995253.jpg</td>\n",
       "      <td>jpeg</td>\n",
       "    </tr>\n",
       "    <tr>\n",
       "      <th>2</th>\n",
       "      <td>2</td>\n",
       "      <td>996305</td>\n",
       "      <td>male</td>\n",
       "      <td>female</td>\n",
       "      <td>CA</td>\n",
       "      <td>SF Peninsula</td>\n",
       "      <td>28.0</td>\n",
       "      <td>https://s3-us-west-1.amazonaws.com/tawkifyfile...</td>\n",
       "      <td>60000.0</td>\n",
       "      <td>data/tawkify/train/996305.jpg</td>\n",
       "      <td>jpeg</td>\n",
       "    </tr>\n",
       "    <tr>\n",
       "      <th>3</th>\n",
       "      <td>3</td>\n",
       "      <td>994861</td>\n",
       "      <td>female</td>\n",
       "      <td>male</td>\n",
       "      <td>CA</td>\n",
       "      <td>SF Peninsula</td>\n",
       "      <td>46.0</td>\n",
       "      <td>https://s3-us-west-1.amazonaws.com/tawkifyfile...</td>\n",
       "      <td>150000.0</td>\n",
       "      <td>data/tawkify/train/994861.jpg</td>\n",
       "      <td>jpeg</td>\n",
       "    </tr>\n",
       "    <tr>\n",
       "      <th>4</th>\n",
       "      <td>4</td>\n",
       "      <td>996334</td>\n",
       "      <td>male</td>\n",
       "      <td>female</td>\n",
       "      <td>CA</td>\n",
       "      <td>SF City</td>\n",
       "      <td>53.0</td>\n",
       "      <td>https://s3-us-west-1.amazonaws.com/tawkifyfile...</td>\n",
       "      <td>500000.0</td>\n",
       "      <td>data/tawkify/train/996334.jpg</td>\n",
       "      <td>jpeg</td>\n",
       "    </tr>\n",
       "  </tbody>\n",
       "</table>\n",
       "</div>"
      ],
      "text/plain": [
       "   Unnamed: 0  userID  gender attractedToGender fromState    metro_name  \\\n",
       "0           0  996294  female              male        CA  SF Peninsula   \n",
       "1           1  995253  female              male        CA  SF South Bay   \n",
       "2           2  996305    male            female        CA  SF Peninsula   \n",
       "3           3  994861  female              male        CA  SF Peninsula   \n",
       "4           4  996334    male            female        CA       SF City   \n",
       "\n",
       "   User_Age                                         User_Photo  User_Income  \\\n",
       "0      42.0  https://s3-us-west-1.amazonaws.com/tawkifyfile...      80000.0   \n",
       "1      45.0  https://s3-us-west-1.amazonaws.com/tawkifyfile...          0.0   \n",
       "2      28.0  https://s3-us-west-1.amazonaws.com/tawkifyfile...      60000.0   \n",
       "3      46.0  https://s3-us-west-1.amazonaws.com/tawkifyfile...     150000.0   \n",
       "4      53.0  https://s3-us-west-1.amazonaws.com/tawkifyfile...     500000.0   \n",
       "\n",
       "                     local_photo image_type  \n",
       "0  data/tawkify/train/996294.jpg       jpeg  \n",
       "1  data/tawkify/train/995253.jpg       jpeg  \n",
       "2  data/tawkify/train/996305.jpg       jpeg  \n",
       "3  data/tawkify/train/994861.jpg       jpeg  \n",
       "4  data/tawkify/train/996334.jpg       jpeg  "
      ]
     },
     "execution_count": 55,
     "metadata": {},
     "output_type": "execute_result"
    }
   ],
   "source": [
    "img_df.head()"
   ]
  },
  {
   "cell_type": "code",
   "execution_count": 14,
   "metadata": {},
   "outputs": [
    {
     "name": "stdout",
     "output_type": "stream",
     "text": [
      "None\n"
     ]
    }
   ],
   "source": [
    "file = 'data/tawkify/train/922512.jpg'\n",
    "print(imghdr.what(file))"
   ]
  },
  {
   "cell_type": "markdown",
   "metadata": {},
   "source": [
    "### Download images"
   ]
  },
  {
   "cell_type": "code",
   "execution_count": null,
   "metadata": {},
   "outputs": [],
   "source": [
    "df.userID[0]"
   ]
  },
  {
   "cell_type": "code",
   "execution_count": null,
   "metadata": {},
   "outputs": [],
   "source": [
    "df.shape"
   ]
  },
  {
   "cell_type": "code",
   "execution_count": null,
   "metadata": {},
   "outputs": [],
   "source": [
    "# OLD SYNCHRONOUS WAY\n",
    "# for index, row in tqdm(df.iterrows(), total=df.shape[0]):\n",
    "#     user_id = row['userID']\n",
    "#     image_url = row['User_Photo']\n",
    "#     image_path = f'{image_folder}{user_id}.jpg'\n",
    "#     if not os.path.exists(image_path):\n",
    "#         try:\n",
    "#             urllib.request.urlretrieve(image_url, image_path)\n",
    "#             df['local_photo'][index] = image_path\n",
    "#         except Exception as e:\n",
    "# #             print('Could not download image for user:', user_id)\n",
    "#             pass\n",
    "#     else:\n",
    "#         df['local_photo'][index] = image_path"
   ]
  },
  {
   "cell_type": "code",
   "execution_count": null,
   "metadata": {},
   "outputs": [],
   "source": [
    "df.head()"
   ]
  },
  {
   "cell_type": "code",
   "execution_count": 112,
   "metadata": {},
   "outputs": [],
   "source": [
    "df.to_csv(PATH+'tw_dem_images.csv')"
   ]
  },
  {
   "cell_type": "code",
   "execution_count": null,
   "metadata": {},
   "outputs": [],
   "source": [
    "from concurrent.futures import ThreadPoolExecutor, wait, as_completed\n",
    "from time import sleep\n",
    "\n",
    "a = df.loc[(df.local_photo == '') | df.local_photo.isna()]\n",
    "\n",
    "# TEST\n",
    "a = a[:10000]\n",
    "chunk_size = 1000\n",
    "futures = []\n",
    "# b = a.copy()"
   ]
  },
  {
   "cell_type": "code",
   "execution_count": null,
   "metadata": {},
   "outputs": [],
   "source": [
    "def download_images(df):\n",
    "    downloaded_images = {}\n",
    "    failed_images = []\n",
    "#     sleep(10)\n",
    "#     return {}, []\n",
    "    for index, row in df.iterrows():\n",
    "        if df.index.name == 'userID':\n",
    "            user_id = index\n",
    "        else:\n",
    "            user_id = row['userID']\n",
    "        image_url = row['User_Photo']\n",
    "        image_path = f'{image_folder}{user_id}.jpg'\n",
    "        if os.path.exists(image_path):\n",
    "            downloaded_images[user_id] = image_path\n",
    "            continue\n",
    "        try:\n",
    "            urllib.request.urlretrieve(image_url, image_path)\n",
    "            downloaded_images[user_id] = image_path\n",
    "#                 df['local_photo'][index] = image_path\n",
    "        except Exception as e:\n",
    "#             print('Could not download image for user:', user_id)\n",
    "            failed_images.append(user_id)\n",
    "            continue\n",
    "    return downloaded_images, failed_images\n",
    "    \n",
    "# urllib.request.urlretrieve('https://www.blog.google/static/blog/images/google-200x200.7714256da16f.png', f'{PATH}00000001.jpg')"
   ]
  },
  {
   "cell_type": "code",
   "execution_count": null,
   "metadata": {},
   "outputs": [],
   "source": [
    "with ThreadPoolExecutor(5) as executor:\n",
    "    for chunk in range(chunk_size, a.shape[0], chunk_size):\n",
    "        idx_end = max(a.shape[0], chunk+chunk_size)\n",
    "        futures.append(executor.submit(download_images, a[chunk:idx_end]))\n",
    "\n",
    "    kwargs = {\n",
    "        'total': len(futures),\n",
    "        'unit': 'nap',\n",
    "        'unit_scale': True,\n",
    "        'leave': True,\n",
    "        'disable': False\n",
    "    }\n",
    "    for x in tqdm(as_completed(futures), **kwargs):\n",
    "        dl_imgs, failed = x.result()\n",
    "        update_df = pd.DataFrame({'userID': list(dl_imgs.keys()), 'local_photo': list(dl_imgs.values())})\n",
    "        if update_df.index.name != 'userID':\n",
    "            update_df.set_index('userID', inplace=True)\n",
    "        if df.index.name != 'userID':\n",
    "            df.set_index('userID', inplace=True)\n",
    "        df.update(update_df)\n",
    "        \n",
    "        failed_df = pd.DataFrame({'userID': list(failed), 'local_photo': 'corrupted', 'image_type': 'corrupted'})\n",
    "        if failed_df.index.name != 'userID':\n",
    "            failed_df.set_index('userID', inplace=True)\n",
    "        df.update(failed_df)\n",
    "    df.reset_index() # do we need this?"
   ]
  },
  {
   "cell_type": "code",
   "execution_count": null,
   "metadata": {},
   "outputs": [],
   "source": [
    "# test\n",
    "def wait_a(x):\n",
    "    sleep(2)\n",
    "    return x\n",
    "\n",
    "futures = []\n",
    "with ThreadPoolExecutor(5) as executor:\n",
    "    \n",
    "    for chunk in range(10):\n",
    "        futures.append(executor.submit(wait_a, chunk))\n",
    "\n",
    "    kwargs = {\n",
    "        'total': len(futures),\n",
    "        'unit': 'nap',\n",
    "        'unit_scale': True,\n",
    "        'leave': True,\n",
    "        'disable': False\n",
    "    }\n",
    "    for x in tqdm(as_completed(futures), **kwargs):\n",
    "        print('Finished:', x.result())"
   ]
  },
  {
   "cell_type": "code",
   "execution_count": null,
   "metadata": {},
   "outputs": [],
   "source": [
    "b.head()"
   ]
  },
  {
   "cell_type": "code",
   "execution_count": null,
   "metadata": {},
   "outputs": [],
   "source": [
    "a[chunk:idx_end]"
   ]
  },
  {
   "cell_type": "markdown",
   "metadata": {},
   "source": [
    "### Read images"
   ]
  },
  {
   "cell_type": "code",
   "execution_count": 139,
   "metadata": {},
   "outputs": [],
   "source": [
    "img_df = df.loc[(df.local_photo != '') \n",
    "                & (df.local_photo != 'corrupted') \n",
    "                & (df.image_type == 'jpeg') \n",
    "                & ~df.local_photo.isna()\n",
    "               ]\n"
   ]
  },
  {
   "cell_type": "code",
   "execution_count": null,
   "metadata": {},
   "outputs": [],
   "source": [
    "img_df = pd.read_csv(image_csv)"
   ]
  },
  {
   "cell_type": "code",
   "execution_count": 140,
   "metadata": {},
   "outputs": [],
   "source": [
    "img_df.to_csv(image_csv)"
   ]
  },
  {
   "cell_type": "code",
   "execution_count": null,
   "metadata": {},
   "outputs": [],
   "source": [
    "img_df.local_photo.iloc[np.random.randint(10)]"
   ]
  },
  {
   "cell_type": "code",
   "execution_count": null,
   "metadata": {},
   "outputs": [],
   "source": [
    "plt.imshow(plt.imread(img_df.local_photo.iloc[np.random.randint(10)]))"
   ]
  },
  {
   "cell_type": "code",
   "execution_count": null,
   "metadata": {},
   "outputs": [],
   "source": [
    "size_map = { idx:plt.imread(k.local_photo).shape for idx,k in img_df.iterrows()}"
   ]
  },
  {
   "cell_type": "code",
   "execution_count": null,
   "metadata": {},
   "outputs": [],
   "source": [
    "size_map"
   ]
  },
  {
   "cell_type": "code",
   "execution_count": null,
   "metadata": {},
   "outputs": [],
   "source": [
    "h, w, ch = list(zip(*size_map.values()))"
   ]
  },
  {
   "cell_type": "code",
   "execution_count": null,
   "metadata": {},
   "outputs": [],
   "source": [
    "plt.hist(w)"
   ]
  },
  {
   "cell_type": "code",
   "execution_count": null,
   "metadata": {},
   "outputs": [],
   "source": [
    "w = np.array(w)\n",
    "plt.hist(w[w<600])"
   ]
  },
  {
   "cell_type": "markdown",
   "metadata": {},
   "source": [
    "### Create training csv"
   ]
  },
  {
   "cell_type": "code",
   "execution_count": 7,
   "metadata": {},
   "outputs": [],
   "source": [
    "model_csv = f'{PATH}current_model.csv'\n",
    "# model_csv = f'{PATH}sample_model.csv'"
   ]
  },
  {
   "cell_type": "code",
   "execution_count": 142,
   "metadata": {},
   "outputs": [],
   "source": [
    "temp_df = pd.DataFrame(data={'id': img_df.userID, 'gender': img_df.gender}, columns=['id', 'gender'])\n",
    "temp_df.to_csv(model_csv, index=False)"
   ]
  },
  {
   "cell_type": "code",
   "execution_count": 143,
   "metadata": {},
   "outputs": [
    {
     "data": {
      "text/html": [
       "<div>\n",
       "<style scoped>\n",
       "    .dataframe tbody tr th:only-of-type {\n",
       "        vertical-align: middle;\n",
       "    }\n",
       "\n",
       "    .dataframe tbody tr th {\n",
       "        vertical-align: top;\n",
       "    }\n",
       "\n",
       "    .dataframe thead th {\n",
       "        text-align: right;\n",
       "    }\n",
       "</style>\n",
       "<table border=\"1\" class=\"dataframe\">\n",
       "  <thead>\n",
       "    <tr style=\"text-align: right;\">\n",
       "      <th></th>\n",
       "      <th>id</th>\n",
       "      <th>gender</th>\n",
       "    </tr>\n",
       "  </thead>\n",
       "  <tbody>\n",
       "  </tbody>\n",
       "</table>\n",
       "</div>"
      ],
      "text/plain": [
       "Empty DataFrame\n",
       "Columns: [id, gender]\n",
       "Index: []"
      ]
     },
     "execution_count": 143,
     "metadata": {},
     "output_type": "execute_result"
    }
   ],
   "source": [
    "temp_df.loc[temp_df.id == 937505]"
   ]
  },
  {
   "cell_type": "markdown",
   "metadata": {},
   "source": [
    "### Architecture"
   ]
  },
  {
   "cell_type": "code",
   "execution_count": 64,
   "metadata": {},
   "outputs": [],
   "source": [
    "# temp_df.sort_values('id').head()"
   ]
  },
  {
   "cell_type": "code",
   "execution_count": 65,
   "metadata": {},
   "outputs": [],
   "source": [
    "# !rm -rf {PATH}tmp"
   ]
  },
  {
   "cell_type": "code",
   "execution_count": 8,
   "metadata": {},
   "outputs": [],
   "source": [
    "temp_df = pd.read_csv(model_csv)"
   ]
  },
  {
   "cell_type": "code",
   "execution_count": 9,
   "metadata": {},
   "outputs": [],
   "source": [
    "arch=resnet50"
   ]
  },
  {
   "cell_type": "code",
   "execution_count": 10,
   "metadata": {},
   "outputs": [],
   "source": [
    "tfms = tfms_from_model(arch, sz, aug_tfms=transforms_side_on, max_zoom=1.1)\n",
    "n = temp_df.shape[0]-1\n",
    "val_idxs = get_cv_idxs(n)\n",
    "# val_idxs = list(temp_df.iloc[val_idxs].id)\n",
    "data = ImageClassifierData.from_csv(path=PATH, folder='train', csv_fname=model_csv, tfms=tfms, suffix='.jpg', val_idxs=val_idxs)\n",
    "# data = ImageClassifierData.from_csv(path=PATH, folder='train', csv_fname=image_csv, test_name='test', tfms=tfms, suffix='.jpg', val_idxs=val_idxs)\n",
    "# new_data = data.resize(sz, 'tmp')"
   ]
  },
  {
   "cell_type": "code",
   "execution_count": 146,
   "metadata": {},
   "outputs": [],
   "source": [
    "# fnames,y,classes = csv_source('train', model_csv, True, '.jpg', continuous=False)"
   ]
  },
  {
   "cell_type": "code",
   "execution_count": 147,
   "metadata": {},
   "outputs": [
    {
     "data": {
      "text/plain": [
       "(3, 220, 220)"
      ]
     },
     "execution_count": 147,
     "metadata": {},
     "output_type": "execute_result"
    }
   ],
   "source": [
    "data.trn_ds[0][0].shape"
   ]
  },
  {
   "cell_type": "code",
   "execution_count": 11,
   "metadata": {},
   "outputs": [],
   "source": [
    "# learn = ConvLearner.pretrained(arch, data=data, precompute=True)\n",
    "learn = ConvLearner.pretrained(arch, data=data, precompute=False)"
   ]
  },
  {
   "cell_type": "code",
   "execution_count": null,
   "metadata": {},
   "outputs": [],
   "source": [
    "plt.imshow(plt.imread('data/tawkify/train/921661.jpg'))"
   ]
  },
  {
   "cell_type": "code",
   "execution_count": 149,
   "metadata": {},
   "outputs": [
    {
     "data": {
      "application/vnd.jupyter.widget-view+json": {
       "model_id": "12d492b04d084cfcbe224080b49ce2a4",
       "version_major": 2,
       "version_minor": 0
      },
      "text/html": [
       "<p>Failed to display Jupyter Widget of type <code>HBox</code>.</p>\n",
       "<p>\n",
       "  If you're reading this message in the Jupyter Notebook or JupyterLab Notebook, it may mean\n",
       "  that the widgets JavaScript is still loading. If this message persists, it\n",
       "  likely means that the widgets JavaScript library is either not installed or\n",
       "  not enabled. See the <a href=\"https://ipywidgets.readthedocs.io/en/stable/user_install.html\">Jupyter\n",
       "  Widgets Documentation</a> for setup instructions.\n",
       "</p>\n",
       "<p>\n",
       "  If you're reading this message in another frontend (for example, a static\n",
       "  rendering on GitHub or <a href=\"https://nbviewer.jupyter.org/\">NBViewer</a>),\n",
       "  it may mean that your frontend doesn't currently support widgets.\n",
       "</p>\n"
      ],
      "text/plain": [
       "HBox(children=(IntProgress(value=0, description='Epoch', max=1), HTML(value='')))"
      ]
     },
     "metadata": {},
     "output_type": "display_data"
    },
    {
     "name": "stdout",
     "output_type": "stream",
     "text": [
      " 80%|████████  | 365/454 [00:07<00:01, 51.92it/s, loss=2.05] \n",
      "                                                            \r"
     ]
    }
   ],
   "source": [
    "learn.lr_find()"
   ]
  },
  {
   "cell_type": "code",
   "execution_count": 150,
   "metadata": {},
   "outputs": [
    {
     "data": {
      "image/png": "[encoded data removed]",
      "text/plain": [
       "<matplotlib.figure.Figure at 0x7fed3e59c208>"
      ]
     },
     "metadata": {},
     "output_type": "display_data"
    }
   ],
   "source": [
    "learn.sched.plot()"
   ]
  },
  {
   "cell_type": "code",
   "execution_count": 151,
   "metadata": {},
   "outputs": [
    {
     "data": {
      "application/vnd.jupyter.widget-view+json": {
       "model_id": "dd54ebc62d37471ab8fc5d4c17f5856d",
       "version_major": 2,
       "version_minor": 0
      },
      "text/html": [
       "<p>Failed to display Jupyter Widget of type <code>HBox</code>.</p>\n",
       "<p>\n",
       "  If you're reading this message in the Jupyter Notebook or JupyterLab Notebook, it may mean\n",
       "  that the widgets JavaScript is still loading. If this message persists, it\n",
       "  likely means that the widgets JavaScript library is either not installed or\n",
       "  not enabled. See the <a href=\"https://ipywidgets.readthedocs.io/en/stable/user_install.html\">Jupyter\n",
       "  Widgets Documentation</a> for setup instructions.\n",
       "</p>\n",
       "<p>\n",
       "  If you're reading this message in another frontend (for example, a static\n",
       "  rendering on GitHub or <a href=\"https://nbviewer.jupyter.org/\">NBViewer</a>),\n",
       "  it may mean that your frontend doesn't currently support widgets.\n",
       "</p>\n"
      ],
      "text/plain": [
       "HBox(children=(IntProgress(value=0, description='Epoch', max=2), HTML(value='')))"
      ]
     },
     "metadata": {},
     "output_type": "display_data"
    },
    {
     "name": "stdout",
     "output_type": "stream",
     "text": [
      "epoch      trn_loss   val_loss   accuracy                    \n",
      "    0      0.343395   0.295831   0.884274  \n",
      "    1      0.314937   0.278029   0.893001                    \n",
      "\n"
     ]
    },
    {
     "data": {
      "text/plain": [
       "[0.27802858, 0.8930007308198694]"
      ]
     },
     "execution_count": 151,
     "metadata": {},
     "output_type": "execute_result"
    }
   ],
   "source": [
    "learn.fit(lrs=1e-2, n_cycle=2)"
   ]
  },
  {
   "cell_type": "code",
   "execution_count": 11,
   "metadata": {},
   "outputs": [],
   "source": [
    "learn.precompute=False"
   ]
  },
  {
   "cell_type": "code",
   "execution_count": 153,
   "metadata": {},
   "outputs": [
    {
     "data": {
      "application/vnd.jupyter.widget-view+json": {
       "model_id": "6db368f2ed7149f9bc124326b53a5ae8",
       "version_major": 2,
       "version_minor": 0
      },
      "text/html": [
       "<p>Failed to display Jupyter Widget of type <code>HBox</code>.</p>\n",
       "<p>\n",
       "  If you're reading this message in the Jupyter Notebook or JupyterLab Notebook, it may mean\n",
       "  that the widgets JavaScript is still loading. If this message persists, it\n",
       "  likely means that the widgets JavaScript library is either not installed or\n",
       "  not enabled. See the <a href=\"https://ipywidgets.readthedocs.io/en/stable/user_install.html\">Jupyter\n",
       "  Widgets Documentation</a> for setup instructions.\n",
       "</p>\n",
       "<p>\n",
       "  If you're reading this message in another frontend (for example, a static\n",
       "  rendering on GitHub or <a href=\"https://nbviewer.jupyter.org/\">NBViewer</a>),\n",
       "  it may mean that your frontend doesn't currently support widgets.\n",
       "</p>\n"
      ],
      "text/plain": [
       "HBox(children=(IntProgress(value=0, description='Epoch', max=3), HTML(value='')))"
      ]
     },
     "metadata": {},
     "output_type": "display_data"
    },
    {
     "name": "stdout",
     "output_type": "stream",
     "text": [
      "epoch      trn_loss   val_loss   accuracy                    \n",
      "    0      0.307381   0.288171   0.890899  \n",
      "    1      0.309722   0.276756   0.89195                     \n",
      "    2      0.304614   0.269694   0.895239                    \n",
      "\n"
     ]
    },
    {
     "data": {
      "text/plain": [
       "[0.26969352, 0.8952394007590779]"
      ]
     },
     "execution_count": 153,
     "metadata": {},
     "output_type": "execute_result"
    }
   ],
   "source": [
    "learn.fit(lrs=1e-2, n_cycle=3)"
   ]
  },
  {
   "cell_type": "code",
   "execution_count": 12,
   "metadata": {},
   "outputs": [],
   "source": [
    "learn.unfreeze()"
   ]
  },
  {
   "cell_type": "code",
   "execution_count": null,
   "metadata": {},
   "outputs": [],
   "source": [
    "learn.lr_find()"
   ]
  },
  {
   "cell_type": "code",
   "execution_count": null,
   "metadata": {},
   "outputs": [],
   "source": [
    "learn.sched.plot()"
   ]
  },
  {
   "cell_type": "code",
   "execution_count": 155,
   "metadata": {},
   "outputs": [
    {
     "data": {
      "application/vnd.jupyter.widget-view+json": {
       "model_id": "103bf9fb17b04e57bca20bad569a6dd0",
       "version_major": 2,
       "version_minor": 0
      },
      "text/html": [
       "<p>Failed to display Jupyter Widget of type <code>HBox</code>.</p>\n",
       "<p>\n",
       "  If you're reading this message in the Jupyter Notebook or JupyterLab Notebook, it may mean\n",
       "  that the widgets JavaScript is still loading. If this message persists, it\n",
       "  likely means that the widgets JavaScript library is either not installed or\n",
       "  not enabled. See the <a href=\"https://ipywidgets.readthedocs.io/en/stable/user_install.html\">Jupyter\n",
       "  Widgets Documentation</a> for setup instructions.\n",
       "</p>\n",
       "<p>\n",
       "  If you're reading this message in another frontend (for example, a static\n",
       "  rendering on GitHub or <a href=\"https://nbviewer.jupyter.org/\">NBViewer</a>),\n",
       "  it may mean that your frontend doesn't currently support widgets.\n",
       "</p>\n"
      ],
      "text/plain": [
       "HBox(children=(IntProgress(value=0, description='Epoch', max=3), HTML(value='')))"
      ]
     },
     "metadata": {},
     "output_type": "display_data"
    },
    {
     "name": "stdout",
     "output_type": "stream",
     "text": [
      "epoch      trn_loss   val_loss   accuracy                    \n",
      "    0      0.236138   0.21168    0.922286  \n",
      "    1      0.210451   0.196861   0.929231                    \n",
      "    2      0.183167   0.191482   0.931743                    \n",
      "\n"
     ]
    },
    {
     "data": {
      "text/plain": [
       "[0.19148238, 0.9317434210526315]"
      ]
     },
     "execution_count": 155,
     "metadata": {},
     "output_type": "execute_result"
    }
   ],
   "source": [
    "learn.fit(lrs=[1e-4,1e-3,1e-2], n_cycle=3, cycle_len=1)"
   ]
  },
  {
   "cell_type": "code",
   "execution_count": 156,
   "metadata": {},
   "outputs": [],
   "source": [
    "learn.save('tw_gender_unfreeze1')"
   ]
  },
  {
   "cell_type": "code",
   "execution_count": 12,
   "metadata": {},
   "outputs": [],
   "source": [
    "learn.load('tw_gender_unfreeze1')"
   ]
  },
  {
   "cell_type": "code",
   "execution_count": null,
   "metadata": {},
   "outputs": [],
   "source": [
    "learn.fit(lrs=[1e-4,1e-3,1e-2], n_cycle=3, cycle_mult=2)"
   ]
  },
  {
   "cell_type": "code",
   "execution_count": null,
   "metadata": {},
   "outputs": [],
   "source": [
    "log_preds, y = learn.TTA()\n",
    "probs = np.exp(log_preds)\n",
    "accuracy(log_preds,y), metrics.log_loss(y, probs)"
   ]
  },
  {
   "cell_type": "code",
   "execution_count": null,
   "metadata": {},
   "outputs": [],
   "source": [
    "preds = np.argmax(log_preds, axis=1)\n",
    "# np.array(preds==y).mean()\n",
    "preds\n",
    "# accuracy(log_preds,y)"
   ]
  },
  {
   "cell_type": "code",
   "execution_count": null,
   "metadata": {},
   "outputs": [],
   "source": []
  },
  {
   "cell_type": "markdown",
   "metadata": {},
   "source": [
    "### Test image"
   ]
  },
  {
   "cell_type": "code",
   "execution_count": 13,
   "metadata": {},
   "outputs": [],
   "source": [
    "test_image_url = 'https://www.longines.com/uploads/ambassador/part1/chi-ling-lin-longines-ambassador-800x996.jpg'"
   ]
  },
  {
   "cell_type": "code",
   "execution_count": 42,
   "metadata": {},
   "outputs": [],
   "source": [
    "# test_image_file = f'{PATH}test_images/test1.jpg'\n",
    "test_image_file = f'{PATH}test_images/kenneth_s.jpg'\n",
    "# test_image_file = f'{PATH}test_images/age_img/IMG_2776.jpg'\n",
    "# test_image_file = f'{PATH}test_images/age_img/IMG_8274.jpg'\n",
    "# test_image_file = f'{PATH}test_images/age_img/IMG_3135.jpg'\n",
    "# test_image_file = f'{PATH}test_images/age_img/IMG_8819.jpg'\n",
    "# test_image_file = f'{PATH}test_images/age_img/IMG_9370.jpg'\n",
    "# test_image_file = f'{PATH}test_images/age_img/IMG_2793.jpg'\n",
    "# test_image_file = f'{PATH}test_images/grandma_test1.jpg'\n",
    "# test_image_file = f'{PATH}test_images/lzl_test1.jpg'\n",
    "# test_image_file = f'{PATH}test_images/age_img/IMG_9625.jpg'\n",
    "\n",
    "# test_image_file = f'{PATH}test_images/jackie_test1.jpg'"
   ]
  },
  {
   "cell_type": "code",
   "execution_count": 43,
   "metadata": {},
   "outputs": [],
   "source": [
    "# urllib.request.urlretrieve(test_image_url, test_image_file)"
   ]
  },
  {
   "cell_type": "code",
   "execution_count": 44,
   "metadata": {},
   "outputs": [
    {
     "data": {
      "text/plain": [
       "<matplotlib.image.AxesImage at 0x7f38b4a97c50>"
      ]
     },
     "execution_count": 44,
     "metadata": {},
     "output_type": "execute_result"
    },
    {
     "data": {
      "image/png": "[encoded data removed]",
      "text/plain": [
       "<matplotlib.figure.Figure at 0x7f38b4ac14e0>"
      ]
     },
     "metadata": {},
     "output_type": "display_data"
    }
   ],
   "source": [
    "plt.imshow(plt.imread(test_image_file))"
   ]
  },
  {
   "cell_type": "code",
   "execution_count": 45,
   "metadata": {},
   "outputs": [],
   "source": [
    "val_tfms = tfms[1]"
   ]
  },
  {
   "cell_type": "code",
   "execution_count": 46,
   "metadata": {},
   "outputs": [],
   "source": [
    "_ = learn.model.eval()"
   ]
  },
  {
   "cell_type": "code",
   "execution_count": 47,
   "metadata": {},
   "outputs": [
    {
     "name": "stdout",
     "output_type": "stream",
     "text": [
      "Prediction:  female\n"
     ]
    }
   ],
   "source": [
    "# test_image = val_tfms(plt.imread(test_image_file))\n",
    "test_image = val_tfms(open_image(test_image_file))\n",
    "prediction = np.exp(learn.predict_array([test_image]))\n",
    "class_prediction = data.classes[np.argmax(prediction)]\n",
    "print('Prediction: ', class_prediction)"
   ]
  },
  {
   "cell_type": "code",
   "execution_count": null,
   "metadata": {},
   "outputs": [],
   "source": []
  },
  {
   "cell_type": "code",
   "execution_count": null,
   "metadata": {},
   "outputs": [],
   "source": []
  }
 ],
 "metadata": {
  "kernelspec": {
   "display_name": "Python 3",
   "language": "python",
   "name": "python3"
  },
  "language_info": {
   "codemirror_mode": {
    "name": "ipython",
    "version": 3
   },
   "file_extension": ".py",
   "mimetype": "text/x-python",
   "name": "python",
   "nbconvert_exporter": "python",
   "pygments_lexer": "ipython3",
   "version": "3.6.4"
  }
 },
 "nbformat": 4,
 "nbformat_minor": 2
}
